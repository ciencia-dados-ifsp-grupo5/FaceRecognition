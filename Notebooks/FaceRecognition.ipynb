{
 "cells": [
  {
   "cell_type": "markdown",
   "id": "5b9c1405",
   "metadata": {},
   "source": [
    "# Face Recognition - PubFig83\n",
    "\n",
    "**D3APL – Aplicações em Ciência de dados**\n",
    "\n",
    "Especialização em Ciência de Dados - IFSP Campinas\n",
    "\n",
    "Alunos\n",
    "- Daniel Vargas Shimamoto\n",
    "- Diego Machado de Assis"
   ]
  },
  {
   "cell_type": "markdown",
   "id": "b72c3d2d",
   "metadata": {},
   "source": [
    "# 1. Informações Gerais\n",
    "\n",
    "## 1.1. Conhecendo  o dataset\n",
    "\n",
    "\n",
    "## 1.2. Atributos:\n",
    "\n",
    "\n",
    "\n",
    "## 1.3. Objetivo\n"
   ]
  },
  {
   "cell_type": "markdown",
   "id": "b42c0439",
   "metadata": {},
   "source": [
    "# 2. Importações\n",
    "## 2.1 Bibliotecas"
   ]
  },
  {
   "cell_type": "code",
   "execution_count": 3,
   "id": "d2f26dc5",
   "metadata": {},
   "outputs": [],
   "source": [
    "# Bibliotecas básicas\n",
    "import pandas as pd\n",
    "import numpy as np\n",
    "import os\n",
    "\n",
    "# Visualização de imagem\n",
    "import cv2\n",
    "import matplotlib.pyplot as plt"
   ]
  },
  {
   "cell_type": "markdown",
   "id": "00d54bf1",
   "metadata": {},
   "source": [
    "## 2.2 Datasets"
   ]
  },
  {
   "cell_type": "code",
   "execution_count": 4,
   "id": "d250b14f",
   "metadata": {},
   "outputs": [
    {
     "name": "stdout",
     "output_type": "stream",
     "text": [
      "Número de Classes: 83\n"
     ]
    }
   ],
   "source": [
    "# Path das imagens\n",
    "dataset_folder = '../Datasets/imgs/'\n",
    "\n",
    "# Lista de pastas\n",
    "class_folders = sorted(os.listdir(dataset_folder))\n",
    "n_classes = len(class_folders)\n",
    "\n",
    "print(f'Número de Classes: {n_classes}')"
   ]
  },
  {
   "cell_type": "code",
   "execution_count": 5,
   "id": "006e8f3c",
   "metadata": {},
   "outputs": [
    {
     "name": "stdout",
     "output_type": "stream",
     "text": [
      "Train: 12178\n",
      "Test: 1660\n"
     ]
    }
   ],
   "source": [
    "# Dataset de treino\n",
    "train = pd.read_csv('../Datasets/train.csv')\n",
    "\n",
    "# Dataset de treino\n",
    "test = pd.read_csv('../Datasets/test.csv')\n",
    "\n",
    "print(f'Train: {len(train)}')\n",
    "print(f'Test: {len(test)}')"
   ]
  },
  {
   "cell_type": "markdown",
   "id": "b1f8c150",
   "metadata": {},
   "source": [
    "## 2.3 Preparação dos dados"
   ]
  },
  {
   "cell_type": "code",
   "execution_count": 6,
   "id": "8c8311ff",
   "metadata": {},
   "outputs": [
    {
     "name": "stdout",
     "output_type": "stream",
     "text": [
      "Adam Sandler - Número de imagem : 108\n",
      "Alec Baldwin - Número de imagem : 103\n",
      "Angelina Jolie - Número de imagem : 214\n",
      "Anna Kournikova - Número de imagem : 171\n",
      "Ashton Kutcher - Número de imagem : 101\n",
      "Avril Lavigne - Número de imagem : 299\n",
      "Barack Obama - Número de imagem : 268\n",
      "Ben Affleck - Número de imagem : 117\n",
      "Beyonce Knowles - Número de imagem : 126\n",
      "Brad Pitt - Número de imagem : 300\n",
      "Cameron Diaz - Número de imagem : 246\n",
      "Cate Blanchett - Número de imagem : 160\n",
      "Charlize Theron - Número de imagem : 195\n",
      "Christina Ricci - Número de imagem : 143\n",
      "Claudia Schiffer - Número de imagem : 122\n",
      "Clive Owen - Número de imagem : 134\n",
      "Colin Farrell - Número de imagem : 145\n",
      "Colin Powell - Número de imagem : 112\n",
      "Cristiano Ronaldo - Número de imagem : 168\n",
      "Daniel Craig - Número de imagem : 168\n",
      "Daniel Radcliffe - Número de imagem : 246\n",
      "David Beckham - Número de imagem : 187\n",
      "David Duchovny - Número de imagem : 149\n",
      "Denise Richards - Número de imagem : 200\n",
      "Drew Barrymore - Número de imagem : 152\n",
      "Dustin Hoffman - Número de imagem : 100\n",
      "Ehud Olmert - Número de imagem : 130\n",
      "Eva Mendes - Número de imagem : 135\n",
      "Faith Hill - Número de imagem : 115\n",
      "George Clooney - Número de imagem : 227\n",
      "Gordon Brown - Número de imagem : 102\n",
      "Gwyneth Paltrow - Número de imagem : 253\n",
      "Halle Berry - Número de imagem : 110\n",
      "Harrison Ford - Número de imagem : 150\n",
      "Hugh Jackman - Número de imagem : 157\n",
      "Hugh Laurie - Número de imagem : 168\n",
      "Jack Nicholson - Número de imagem : 101\n",
      "Jennifer Aniston - Número de imagem : 230\n",
      "Jennifer Lopez - Número de imagem : 129\n",
      "Jennifer Love Hewitt - Número de imagem : 107\n",
      "Jessica Alba - Número de imagem : 175\n",
      "Jessica Simpson - Número de imagem : 300\n",
      "Joaquin Phoenix - Número de imagem : 108\n",
      "John Travolta - Número de imagem : 132\n",
      "Julia Roberts - Número de imagem : 132\n",
      "Julia Stiles - Número de imagem : 132\n",
      "Kate Moss - Número de imagem : 153\n",
      "Kate Winslet - Número de imagem : 134\n",
      "Katherine Heigl - Número de imagem : 257\n",
      "Keira Knightley - Número de imagem : 195\n",
      "Kiefer Sutherland - Número de imagem : 135\n",
      "Leonardo DiCaprio - Número de imagem : 199\n",
      "Lindsay Lohan - Número de imagem : 354\n",
      "Mariah Carey - Número de imagem : 102\n",
      "Martha Stewart - Número de imagem : 108\n",
      "Matt Damon - Número de imagem : 154\n",
      "Meg Ryan - Número de imagem : 210\n",
      "Meryl Streep - Número de imagem : 146\n",
      "Michael Bloomberg - Número de imagem : 102\n",
      "Mickey Rourke - Número de imagem : 119\n",
      "Miley Cyrus - Número de imagem : 367\n",
      "Morgan Freeman - Número de imagem : 108\n",
      "Nicole Kidman - Número de imagem : 185\n",
      "Nicole Richie - Número de imagem : 188\n",
      "Orlando Bloom - Número de imagem : 260\n",
      "Reese Witherspoon - Número de imagem : 157\n",
      "Renee Zellweger - Número de imagem : 133\n",
      "Ricky Martin - Número de imagem : 143\n",
      "Robert Gates - Número de imagem : 100\n",
      "Sania Mirza - Número de imagem : 128\n",
      "Scarlett Johansson - Número de imagem : 273\n",
      "Shahrukh Khan - Número de imagem : 152\n",
      "Shakira - Número de imagem : 201\n",
      "Sharon Stone - Número de imagem : 206\n",
      "Silvio Berlusconi - Número de imagem : 121\n",
      "Stephen Colbert - Número de imagem : 124\n",
      "Steve Carell - Número de imagem : 166\n",
      "Tom Cruise - Número de imagem : 197\n",
      "Uma Thurman - Número de imagem : 167\n",
      "Victoria Beckham - Número de imagem : 134\n",
      "Viggo Mortensen - Número de imagem : 112\n",
      "Will Smith - Número de imagem : 128\n",
      "Zac Efron - Número de imagem : 193\n",
      "\n",
      "Classe com menos imagens: 100 Imagens\n",
      "Classe com mais imagens: 367 Imagens\n"
     ]
    }
   ],
   "source": [
    "# Número de amostras por Classe\n",
    "min_images = 1000\n",
    "max_images = 0\n",
    "\n",
    "x = 0\n",
    "for class_folder in class_folders:\n",
    "    full_class_folder = os.path.join(dataset_folder, class_folder)\n",
    "    \n",
    "    class_img_filenames = os.listdir(full_class_folder)\n",
    "    images = len(class_img_filenames)\n",
    "    x += images\n",
    "    print(f'{class_folder} - Número de imagem : {images}')\n",
    "    if images < min_images:\n",
    "        min_images = images\n",
    "    if images > max_images:\n",
    "        max_images = images\n",
    "\n",
    "print(f'\\nClasse com menos imagens: {min_images} Imagens')\n",
    "print(f'Classe com mais imagens: {max_images} Imagens')"
   ]
  },
  {
   "cell_type": "code",
   "execution_count": 7,
   "id": "882e7777",
   "metadata": {},
   "outputs": [
    {
     "data": {
      "text/html": [
       "<div>\n",
       "<style scoped>\n",
       "    .dataframe tbody tr th:only-of-type {\n",
       "        vertical-align: middle;\n",
       "    }\n",
       "\n",
       "    .dataframe tbody tr th {\n",
       "        vertical-align: top;\n",
       "    }\n",
       "\n",
       "    .dataframe thead th {\n",
       "        text-align: right;\n",
       "    }\n",
       "</style>\n",
       "<table border=\"1\" class=\"dataframe\">\n",
       "  <thead>\n",
       "    <tr style=\"text-align: right;\">\n",
       "      <th></th>\n",
       "      <th>Train_samples</th>\n",
       "      <th>Test_samples</th>\n",
       "      <th>Proportion</th>\n",
       "    </tr>\n",
       "  </thead>\n",
       "  <tbody>\n",
       "    <tr>\n",
       "      <th>Miley Cyrus</th>\n",
       "      <td>347</td>\n",
       "      <td>20</td>\n",
       "      <td>0.057637</td>\n",
       "    </tr>\n",
       "    <tr>\n",
       "      <th>Lindsay Lohan</th>\n",
       "      <td>334</td>\n",
       "      <td>20</td>\n",
       "      <td>0.059880</td>\n",
       "    </tr>\n",
       "    <tr>\n",
       "      <th>Jessica Simpson</th>\n",
       "      <td>280</td>\n",
       "      <td>20</td>\n",
       "      <td>0.071429</td>\n",
       "    </tr>\n",
       "    <tr>\n",
       "      <th>Brad Pitt</th>\n",
       "      <td>280</td>\n",
       "      <td>20</td>\n",
       "      <td>0.071429</td>\n",
       "    </tr>\n",
       "    <tr>\n",
       "      <th>Avril Lavigne</th>\n",
       "      <td>279</td>\n",
       "      <td>20</td>\n",
       "      <td>0.071685</td>\n",
       "    </tr>\n",
       "    <tr>\n",
       "      <th>...</th>\n",
       "      <td>...</td>\n",
       "      <td>...</td>\n",
       "      <td>...</td>\n",
       "    </tr>\n",
       "    <tr>\n",
       "      <th>Mariah Carey</th>\n",
       "      <td>82</td>\n",
       "      <td>20</td>\n",
       "      <td>0.243902</td>\n",
       "    </tr>\n",
       "    <tr>\n",
       "      <th>Ashton Kutcher</th>\n",
       "      <td>81</td>\n",
       "      <td>20</td>\n",
       "      <td>0.246914</td>\n",
       "    </tr>\n",
       "    <tr>\n",
       "      <th>Jack Nicholson</th>\n",
       "      <td>81</td>\n",
       "      <td>20</td>\n",
       "      <td>0.246914</td>\n",
       "    </tr>\n",
       "    <tr>\n",
       "      <th>Robert Gates</th>\n",
       "      <td>80</td>\n",
       "      <td>20</td>\n",
       "      <td>0.250000</td>\n",
       "    </tr>\n",
       "    <tr>\n",
       "      <th>Dustin Hoffman</th>\n",
       "      <td>80</td>\n",
       "      <td>20</td>\n",
       "      <td>0.250000</td>\n",
       "    </tr>\n",
       "  </tbody>\n",
       "</table>\n",
       "<p>83 rows × 3 columns</p>\n",
       "</div>"
      ],
      "text/plain": [
       "                 Train_samples  Test_samples  Proportion\n",
       "Miley Cyrus                347            20    0.057637\n",
       "Lindsay Lohan              334            20    0.059880\n",
       "Jessica Simpson            280            20    0.071429\n",
       "Brad Pitt                  280            20    0.071429\n",
       "Avril Lavigne              279            20    0.071685\n",
       "...                        ...           ...         ...\n",
       "Mariah Carey                82            20    0.243902\n",
       "Ashton Kutcher              81            20    0.246914\n",
       "Jack Nicholson              81            20    0.246914\n",
       "Robert Gates                80            20    0.250000\n",
       "Dustin Hoffman              80            20    0.250000\n",
       "\n",
       "[83 rows x 3 columns]"
      ]
     },
     "execution_count": 7,
     "metadata": {},
     "output_type": "execute_result"
    }
   ],
   "source": [
    "# Dataframe com volume de amostras de treino e teste e a proporção entre eles\n",
    "train_samples = train['image_pathname'].str.split('/', expand=True).loc[:,1].value_counts()\n",
    "samples = pd.DataFrame(data = train_samples.values, index = train_samples.index, columns = ['Train_samples'])\n",
    "samples['Test_samples'] = test['image_pathname'].str.split('/', expand=True).loc[:,1].value_counts()\n",
    "samples['Proportion'] = samples['Test_samples'] / samples['Train_samples']\n",
    "samples"
   ]
  },
  {
   "cell_type": "code",
   "execution_count": 8,
   "id": "1ebd961a",
   "metadata": {},
   "outputs": [],
   "source": [
    "# Criando uma coluna com as classes nos datasets de treino e test\n",
    "train['class'] = train.iloc[:,0].str.split('/', expand=True).loc[:,1]\n",
    "test['class'] = test.iloc[:,0].str.split('/', expand=True).loc[:,1]"
   ]
  },
  {
   "cell_type": "code",
   "execution_count": 9,
   "id": "6eeedb06",
   "metadata": {},
   "outputs": [
    {
     "data": {
      "text/html": [
       "<div>\n",
       "<style scoped>\n",
       "    .dataframe tbody tr th:only-of-type {\n",
       "        vertical-align: middle;\n",
       "    }\n",
       "\n",
       "    .dataframe tbody tr th {\n",
       "        vertical-align: top;\n",
       "    }\n",
       "\n",
       "    .dataframe thead th {\n",
       "        text-align: right;\n",
       "    }\n",
       "</style>\n",
       "<table border=\"1\" class=\"dataframe\">\n",
       "  <thead>\n",
       "    <tr style=\"text-align: right;\">\n",
       "      <th></th>\n",
       "      <th>image_pathname</th>\n",
       "      <th>class</th>\n",
       "    </tr>\n",
       "  </thead>\n",
       "  <tbody>\n",
       "    <tr>\n",
       "      <th>11675</th>\n",
       "      <td>imgs/Uma Thurman/107.jpg</td>\n",
       "      <td>Uma Thurman</td>\n",
       "    </tr>\n",
       "    <tr>\n",
       "      <th>1504</th>\n",
       "      <td>imgs/Brad Pitt/411.jpg</td>\n",
       "      <td>Brad Pitt</td>\n",
       "    </tr>\n",
       "    <tr>\n",
       "      <th>5641</th>\n",
       "      <td>imgs/Jennifer Lopez/252.jpg</td>\n",
       "      <td>Jennifer Lopez</td>\n",
       "    </tr>\n",
       "  </tbody>\n",
       "</table>\n",
       "</div>"
      ],
      "text/plain": [
       "                    image_pathname           class\n",
       "11675     imgs/Uma Thurman/107.jpg     Uma Thurman\n",
       "1504        imgs/Brad Pitt/411.jpg       Brad Pitt\n",
       "5641   imgs/Jennifer Lopez/252.jpg  Jennifer Lopez"
      ]
     },
     "execution_count": 9,
     "metadata": {},
     "output_type": "execute_result"
    }
   ],
   "source": [
    "train.sample(3)"
   ]
  },
  {
   "cell_type": "code",
   "execution_count": 10,
   "id": "632f862b",
   "metadata": {},
   "outputs": [
    {
     "data": {
      "text/html": [
       "<div>\n",
       "<style scoped>\n",
       "    .dataframe tbody tr th:only-of-type {\n",
       "        vertical-align: middle;\n",
       "    }\n",
       "\n",
       "    .dataframe tbody tr th {\n",
       "        vertical-align: top;\n",
       "    }\n",
       "\n",
       "    .dataframe thead th {\n",
       "        text-align: right;\n",
       "    }\n",
       "</style>\n",
       "<table border=\"1\" class=\"dataframe\">\n",
       "  <thead>\n",
       "    <tr style=\"text-align: right;\">\n",
       "      <th></th>\n",
       "      <th>image_pathname</th>\n",
       "      <th>class</th>\n",
       "    </tr>\n",
       "  </thead>\n",
       "  <tbody>\n",
       "    <tr>\n",
       "      <th>715</th>\n",
       "      <td>imgs/Hugh Laurie/214.jpg</td>\n",
       "      <td>Hugh Laurie</td>\n",
       "    </tr>\n",
       "    <tr>\n",
       "      <th>618</th>\n",
       "      <td>imgs/Gordon Brown/90.jpg</td>\n",
       "      <td>Gordon Brown</td>\n",
       "    </tr>\n",
       "    <tr>\n",
       "      <th>1090</th>\n",
       "      <td>imgs/Martha Stewart/58.jpg</td>\n",
       "      <td>Martha Stewart</td>\n",
       "    </tr>\n",
       "  </tbody>\n",
       "</table>\n",
       "</div>"
      ],
      "text/plain": [
       "                  image_pathname           class\n",
       "715     imgs/Hugh Laurie/214.jpg     Hugh Laurie\n",
       "618     imgs/Gordon Brown/90.jpg    Gordon Brown\n",
       "1090  imgs/Martha Stewart/58.jpg  Martha Stewart"
      ]
     },
     "execution_count": 10,
     "metadata": {},
     "output_type": "execute_result"
    }
   ],
   "source": [
    "test.sample(3)"
   ]
  },
  {
   "cell_type": "markdown",
   "id": "9715ad66",
   "metadata": {},
   "source": [
    "## 2.4 Tamanho das imagens"
   ]
  },
  {
   "cell_type": "code",
   "execution_count": 11,
   "id": "d70bb2af",
   "metadata": {},
   "outputs": [
    {
     "data": {
      "text/plain": [
       "(100, 100, 3)"
      ]
     },
     "execution_count": 11,
     "metadata": {},
     "output_type": "execute_result"
    }
   ],
   "source": [
    "img = cv2.imread('../Datasets/' + train.iloc[0]['image_pathname'])\n",
    "img.shape"
   ]
  },
  {
   "cell_type": "code",
   "execution_count": 12,
   "id": "ca4362cc",
   "metadata": {},
   "outputs": [
    {
     "data": {
      "text/plain": [
       "(0, 255)"
      ]
     },
     "execution_count": 12,
     "metadata": {},
     "output_type": "execute_result"
    }
   ],
   "source": [
    " img.min(), img.max()"
   ]
  },
  {
   "cell_type": "markdown",
   "id": "d6617c91",
   "metadata": {},
   "source": [
    "## 2.5 Visualização das imagens"
   ]
  },
  {
   "cell_type": "code",
   "execution_count": 13,
   "id": "6bf0f5bf",
   "metadata": {},
   "outputs": [],
   "source": [
    "# read an image\n",
    "def print_image (df, pos):\n",
    "    img = cv2.imread('../Datasets/' + df.iloc[pos]['image_pathname'])\n",
    "    img = cv2.cvtColor(img, cv2.COLOR_BGR2RGB)\n",
    "    plt.imshow(img)"
   ]
  },
  {
   "cell_type": "code",
   "execution_count": 14,
   "id": "bd97ab8e",
   "metadata": {},
   "outputs": [
    {
     "data": {
      "image/png": "[encoded data removed]",
      "text/plain": [
       "<Figure size 432x288 with 1 Axes>"
      ]
     },
     "metadata": {
      "needs_background": "light"
     },
     "output_type": "display_data"
    }
   ],
   "source": [
    "print_image(train, 5)"
   ]
  },
  {
   "cell_type": "code",
   "execution_count": 15,
   "id": "ac12d783",
   "metadata": {},
   "outputs": [
    {
     "data": {
      "image/png": "[encoded data removed]",
      "text/plain": [
       "<Figure size 432x288 with 1 Axes>"
      ]
     },
     "metadata": {
      "needs_background": "light"
     },
     "output_type": "display_data"
    }
   ],
   "source": [
    "print_image(test, 50)"
   ]
  },
  {
   "cell_type": "markdown",
   "id": "551e018b",
   "metadata": {},
   "source": [
    "# 3. Pré-processamento"
   ]
  },
  {
   "cell_type": "markdown",
   "id": "80d60229-4794-4949-a42d-addf0a111d19",
   "metadata": {},
   "source": [
    "## 3.1 Dados de validação"
   ]
  },
  {
   "cell_type": "code",
   "execution_count": 16,
   "id": "03c40f33-fcc9-4780-a1ca-e527741c8883",
   "metadata": {},
   "outputs": [],
   "source": [
    "from sklearn.model_selection import train_test_split\n",
    "\n",
    "train_labels = train['class']\n",
    "\n",
    "train, validation = train_test_split(train, train_size=0.8, stratify=train_labels)"
   ]
  },
  {
   "cell_type": "code",
   "execution_count": 17,
   "id": "a922304d-9452-4110-8f60-1aa5c7383f49",
   "metadata": {},
   "outputs": [
    {
     "data": {
      "text/plain": [
       "Miley Cyrus        277\n",
       "Lindsay Lohan      267\n",
       "Brad Pitt          224\n",
       "Jessica Simpson    224\n",
       "Avril Lavigne      223\n",
       "                  ... \n",
       "Mariah Carey        66\n",
       "Ashton Kutcher      65\n",
       "Jack Nicholson      65\n",
       "Robert Gates        64\n",
       "Dustin Hoffman      64\n",
       "Name: class, Length: 83, dtype: int64"
      ]
     },
     "execution_count": 17,
     "metadata": {},
     "output_type": "execute_result"
    }
   ],
   "source": [
    "train['class'].value_counts()"
   ]
  },
  {
   "cell_type": "code",
   "execution_count": 18,
   "id": "ee4d2087-c0d7-40cd-bf11-0b28cecdb0ec",
   "metadata": {},
   "outputs": [
    {
     "data": {
      "text/plain": [
       "Miley Cyrus        70\n",
       "Lindsay Lohan      67\n",
       "Jessica Simpson    56\n",
       "Avril Lavigne      56\n",
       "Brad Pitt          56\n",
       "                   ..\n",
       "Robert Gates       16\n",
       "Mariah Carey       16\n",
       "Jack Nicholson     16\n",
       "Ashton Kutcher     16\n",
       "Dustin Hoffman     16\n",
       "Name: class, Length: 83, dtype: int64"
      ]
     },
     "execution_count": 18,
     "metadata": {},
     "output_type": "execute_result"
    }
   ],
   "source": [
    "validation['class'].value_counts()"
   ]
  },
  {
   "cell_type": "code",
   "execution_count": 19,
   "id": "08abbcf9",
   "metadata": {},
   "outputs": [],
   "source": [
    "import cv2\n",
    "from sklearn.preprocessing import LabelEncoder\n",
    "\n",
    "def preprocess_dataset(dataset_df, label_encoder: LabelEncoder):\n",
    "    # load the images as a feature matrix\n",
    "    image_list = []  # list of numpy arrays\n",
    "    \n",
    "    for index, img_path in enumerate('../Datasets/' + dataset_df['image_pathname']):\n",
    "        img = cv2.imread(img_path)\n",
    "        img = cv2.cvtColor(img, cv2.COLOR_BGR2RGB)\n",
    "        \n",
    "        # image resizing\n",
    "        # for gray or color images, the linear interpolation sounds good\n",
    "        image_list.append(img)\n",
    "        \n",
    "        # verbose - print every 1000 iterations\n",
    "        if index % 1000 == 0:\n",
    "            print(f'{index + 1}/{dataset_df.shape[0]} - {img_path}')\n",
    "    \n",
    "    X = np.array(image_list)\n",
    "    \n",
    "    # feature scaling\n",
    "    X = X / 255.0\n",
    "    \n",
    "    # encoding the classes\n",
    "    y = label_encoder.fit_transform(dataset_df['class'])\n",
    "    \n",
    "    return X, y"
   ]
  },
  {
   "cell_type": "code",
   "execution_count": 20,
   "id": "769b9c6a",
   "metadata": {},
   "outputs": [
    {
     "data": {
      "text/plain": [
       "array(['Adam Sandler', 'Alec Baldwin', 'Angelina Jolie',\n",
       "       'Anna Kournikova', 'Ashton Kutcher', 'Avril Lavigne',\n",
       "       'Barack Obama', 'Ben Affleck', 'Beyonce Knowles', 'Brad Pitt',\n",
       "       'Cameron Diaz', 'Cate Blanchett', 'Charlize Theron',\n",
       "       'Christina Ricci', 'Claudia Schiffer', 'Clive Owen',\n",
       "       'Colin Farrell', 'Colin Powell', 'Cristiano Ronaldo',\n",
       "       'Daniel Craig', 'Daniel Radcliffe', 'David Beckham',\n",
       "       'David Duchovny', 'Denise Richards', 'Drew Barrymore',\n",
       "       'Dustin Hoffman', 'Ehud Olmert', 'Eva Mendes', 'Faith Hill',\n",
       "       'George Clooney', 'Gordon Brown', 'Gwyneth Paltrow', 'Halle Berry',\n",
       "       'Harrison Ford', 'Hugh Jackman', 'Hugh Laurie', 'Jack Nicholson',\n",
       "       'Jennifer Aniston', 'Jennifer Lopez', 'Jennifer Love Hewitt',\n",
       "       'Jessica Alba', 'Jessica Simpson', 'Joaquin Phoenix',\n",
       "       'John Travolta', 'Julia Roberts', 'Julia Stiles', 'Kate Moss',\n",
       "       'Kate Winslet', 'Katherine Heigl', 'Keira Knightley',\n",
       "       'Kiefer Sutherland', 'Leonardo DiCaprio', 'Lindsay Lohan',\n",
       "       'Mariah Carey', 'Martha Stewart', 'Matt Damon', 'Meg Ryan',\n",
       "       'Meryl Streep', 'Michael Bloomberg', 'Mickey Rourke',\n",
       "       'Miley Cyrus', 'Morgan Freeman', 'Nicole Kidman', 'Nicole Richie',\n",
       "       'Orlando Bloom', 'Reese Witherspoon', 'Renee Zellweger',\n",
       "       'Ricky Martin', 'Robert Gates', 'Sania Mirza',\n",
       "       'Scarlett Johansson', 'Shahrukh Khan', 'Shakira', 'Sharon Stone',\n",
       "       'Silvio Berlusconi', 'Stephen Colbert', 'Steve Carell',\n",
       "       'Tom Cruise', 'Uma Thurman', 'Victoria Beckham', 'Viggo Mortensen',\n",
       "       'Will Smith', 'Zac Efron'], dtype=object)"
      ]
     },
     "execution_count": 20,
     "metadata": {},
     "output_type": "execute_result"
    }
   ],
   "source": [
    "# training a Label Encoder from the train set\n",
    "from sklearn.preprocessing import LabelEncoder\n",
    "\n",
    "label_encoder = LabelEncoder()\n",
    "label_encoder.fit(train['class'])\n",
    "\n",
    "label_encoder.classes_"
   ]
  },
  {
   "cell_type": "code",
   "execution_count": 21,
   "id": "b7cc2dc6",
   "metadata": {},
   "outputs": [
    {
     "name": "stdout",
     "output_type": "stream",
     "text": [
      "1/9742 - ../Datasets/imgs/Sania Mirza/55.jpg\n",
      "1001/9742 - ../Datasets/imgs/Hugh Jackman/13.jpg\n",
      "2001/9742 - ../Datasets/imgs/Denise Richards/43.jpg\n",
      "3001/9742 - ../Datasets/imgs/Victoria Beckham/222.jpg\n",
      "4001/9742 - ../Datasets/imgs/Kate Winslet/266.jpg\n",
      "5001/9742 - ../Datasets/imgs/Tom Cruise/263.jpg\n",
      "6001/9742 - ../Datasets/imgs/Hugh Laurie/257.jpg\n",
      "7001/9742 - ../Datasets/imgs/Meryl Streep/218.jpg\n",
      "8001/9742 - ../Datasets/imgs/Katherine Heigl/135.jpg\n",
      "9001/9742 - ../Datasets/imgs/Scarlett Johansson/314.jpg\n"
     ]
    }
   ],
   "source": [
    "# preprocessing the train set\n",
    "X_train, y_train = preprocess_dataset(train, label_encoder)"
   ]
  },
  {
   "cell_type": "code",
   "execution_count": 22,
   "id": "950354e2",
   "metadata": {},
   "outputs": [
    {
     "name": "stdout",
     "output_type": "stream",
     "text": [
      "X_train.shape: (9742, 100, 100, 3)\n",
      "y_train (classes): [ 0  1  2  3  4  5  6  7  8  9 10 11 12 13 14 15 16 17 18 19 20 21 22 23\n",
      " 24 25 26 27 28 29 30 31 32 33 34 35 36 37 38 39 40 41 42 43 44 45 46 47\n",
      " 48 49 50 51 52 53 54 55 56 57 58 59 60 61 62 63 64 65 66 67 68 69 70 71\n",
      " 72 73 74 75 76 77 78 79 80 81 82]\n",
      "y_train.shape: (9742,)\n",
      "Min. value of X_train: 0.0\n",
      "Max. value of X_train: 1.0\n",
      "\n"
     ]
    }
   ],
   "source": [
    "print(f'X_train.shape: {X_train.shape}')\n",
    "print(f'y_train (classes): {np.unique(y_train)}')\n",
    "print(f'y_train.shape: {y_train.shape}')\n",
    "\n",
    "# rescaled 24-bit color image\n",
    "print(f'Min. value of X_train: {X_train.min()}')\n",
    "print(f'Max. value of X_train: {X_train.max()}\\n')"
   ]
  },
  {
   "cell_type": "code",
   "execution_count": 23,
   "id": "226e6dd5-f437-4a62-ba7c-5399118828c3",
   "metadata": {},
   "outputs": [
    {
     "name": "stdout",
     "output_type": "stream",
     "text": [
      "1/2436 - ../Datasets/imgs/Hugh Laurie/153.jpg\n",
      "1001/2436 - ../Datasets/imgs/Kate Winslet/340.jpg\n",
      "2001/2436 - ../Datasets/imgs/Brad Pitt/254.jpg\n"
     ]
    }
   ],
   "source": [
    "# preprocessing the validation set\n",
    "X_validation, y_validation = preprocess_dataset(validation, label_encoder)"
   ]
  },
  {
   "cell_type": "code",
   "execution_count": 24,
   "id": "817d2306-c72b-45aa-b64b-021c7681e134",
   "metadata": {},
   "outputs": [
    {
     "name": "stdout",
     "output_type": "stream",
     "text": [
      "X_validation.shape: (2436, 100, 100, 3)\n",
      "y_validation (classes): [ 0  1  2  3  4  5  6  7  8  9 10 11 12 13 14 15 16 17 18 19 20 21 22 23\n",
      " 24 25 26 27 28 29 30 31 32 33 34 35 36 37 38 39 40 41 42 43 44 45 46 47\n",
      " 48 49 50 51 52 53 54 55 56 57 58 59 60 61 62 63 64 65 66 67 68 69 70 71\n",
      " 72 73 74 75 76 77 78 79 80 81 82]\n",
      "y_validation.shape: (2436,)\n",
      "Min. value of X_validation: 0.0\n",
      "Max. value of X_validation: 1.0\n",
      "\n"
     ]
    }
   ],
   "source": [
    "print(f'X_validation.shape: {X_validation.shape}')\n",
    "print(f'y_validation (classes): {np.unique(y_validation)}')\n",
    "print(f'y_validation.shape: {y_validation.shape}')\n",
    "\n",
    "# rescaled 24-bit color image\n",
    "print(f'Min. value of X_validation: {X_validation.min()}')\n",
    "print(f'Max. value of X_validation: {X_validation.max()}\\n')"
   ]
  },
  {
   "cell_type": "code",
   "execution_count": 25,
   "id": "dc3648ff",
   "metadata": {},
   "outputs": [
    {
     "name": "stdout",
     "output_type": "stream",
     "text": [
      "1/1660 - ../Datasets/imgs/Adam Sandler/34.jpg\n",
      "1001/1660 - ../Datasets/imgs/Kiefer Sutherland/40.jpg\n"
     ]
    }
   ],
   "source": [
    "# preprocessing the test set\n",
    "X_test, y_test = preprocess_dataset(test, label_encoder)"
   ]
  },
  {
   "cell_type": "code",
   "execution_count": 26,
   "id": "c9a26bbe",
   "metadata": {},
   "outputs": [
    {
     "name": "stdout",
     "output_type": "stream",
     "text": [
      "X_test.shape: (1660, 100, 100, 3)\n",
      "y_test (classes): [ 0  1  2  3  4  5  6  7  8  9 10 11 12 13 14 15 16 17 18 19 20 21 22 23\n",
      " 24 25 26 27 28 29 30 31 32 33 34 35 36 37 38 39 40 41 42 43 44 45 46 47\n",
      " 48 49 50 51 52 53 54 55 56 57 58 59 60 61 62 63 64 65 66 67 68 69 70 71\n",
      " 72 73 74 75 76 77 78 79 80 81 82]\n",
      "y_test.shape: (1660,)\n",
      "Min. value of X_test: 0.0\n",
      "Max. value of X_test: 1.0\n",
      "\n"
     ]
    }
   ],
   "source": [
    "print(f'X_test.shape: {X_test.shape}')\n",
    "print(f'y_test (classes): {np.unique(y_test)}')\n",
    "print(f'y_test.shape: {y_test.shape}')\n",
    "\n",
    "# rescaled 24-bit color image\n",
    "print(f'Min. value of X_test: {X_test.min()}')\n",
    "print(f'Max. value of X_test: {X_test.max()}\\n')"
   ]
  },
  {
   "cell_type": "markdown",
   "id": "73daac7c-dc27-495b-999f-7986cffb4bee",
   "metadata": {},
   "source": [
    "## 3.1 Balanceamento de classes"
   ]
  },
  {
   "cell_type": "code",
   "execution_count": 27,
   "id": "420b64c0-c8ff-4925-be5e-e14b62387eba",
   "metadata": {},
   "outputs": [
    {
     "data": {
      "text/plain": [
       "[(0, 70), (1, 66), (2, 155), (3, 121), (4, 65)]"
      ]
     },
     "execution_count": 27,
     "metadata": {},
     "output_type": "execute_result"
    }
   ],
   "source": [
    "n_samples = np.bincount(y_train)\n",
    "classes = np.nonzero(y_train)[0]\n",
    "\n",
    "samples_per_class = list(zip(classes, n_samples))\n",
    "samples_per_class[:5]"
   ]
  },
  {
   "cell_type": "code",
   "execution_count": 28,
   "id": "3a10e72e-7a96-4163-8885-03fc2f5e0ec8",
   "metadata": {},
   "outputs": [
    {
     "data": {
      "text/plain": [
       "(60, 277)"
      ]
     },
     "execution_count": 28,
     "metadata": {},
     "output_type": "execute_result"
    }
   ],
   "source": [
    "max_samples = max(samples_per_class, key = lambda i: i[1])\n",
    "max_samples"
   ]
  },
  {
   "cell_type": "markdown",
   "id": "425afd02-b8bf-47bc-b16f-42155f68d05e",
   "metadata": {},
   "source": [
    "A classe 60 possui a maior quantidade de amostras, com 277."
   ]
  },
  {
   "cell_type": "code",
   "execution_count": 29,
   "id": "b1e5bf09-5666-40dc-a470-32ca6982a39b",
   "metadata": {},
   "outputs": [
    {
     "name": "stderr",
     "output_type": "stream",
     "text": [
      "2022-06-15 22:32:36.954042: I tensorflow/core/common_runtime/pluggable_device/pluggable_device_factory.cc:305] Could not identify NUMA node of platform GPU ID 0, defaulting to 0. Your kernel may not have been built with NUMA support.\n",
      "2022-06-15 22:32:36.954141: I tensorflow/core/common_runtime/pluggable_device/pluggable_device_factory.cc:271] Created TensorFlow device (/job:localhost/replica:0/task:0/device:GPU:0 with 0 MB memory) -> physical PluggableDevice (device: 0, name: METAL, pci bus id: <undefined>)\n"
     ]
    },
    {
     "name": "stdout",
     "output_type": "stream",
     "text": [
      "Metal device set to: Apple M1\n"
     ]
    }
   ],
   "source": [
    "import tensorflow as tf\n",
    "from tensorflow.keras import Sequential\n",
    "from tensorflow.keras.layers import RandomFlip, RandomRotation, RandomTranslation\n",
    "\n",
    "new_images = []\n",
    "new_classes = []\n",
    "\n",
    "desired_samples = max_samples[1]\n",
    "# For each class\n",
    "for (cls, n_samples) in samples_per_class:\n",
    "    # Indexes of samples of current class\n",
    "    cls_indexes = np.where(y_train == cls)[0]\n",
    "\n",
    "    # For each missing sample until reach desired samples\n",
    "    for i in range(desired_samples - n_samples):\n",
    "        # Get a random image that belongs to the current class\n",
    "        idx = np.random.choice(cls_indexes)\n",
    "        img = X_train[idx]\n",
    "        img = np.expand_dims(img, axis=0)\n",
    "        \n",
    "        # Create a new image\n",
    "        with tf.device('/cpu:0'):\n",
    "            data_augmentation = Sequential([\n",
    "                RandomFlip(\"horizontal\"),\n",
    "                RandomRotation(factor=0.1)\n",
    "            ])\n",
    "            augmented = data_augmentation(img)\n",
    "            new_images.append(augmented[0])\n",
    "            new_classes.append(cls)"
   ]
  },
  {
   "cell_type": "code",
   "execution_count": 34,
   "id": "a753f0c9-3b43-41cf-b9e1-5f0f344d5797",
   "metadata": {},
   "outputs": [
    {
     "data": {
      "text/plain": [
       "<matplotlib.image.AxesImage at 0x283558370>"
      ]
     },
     "execution_count": 34,
     "metadata": {},
     "output_type": "execute_result"
    },
    {
     "data": {
      "image/png": "[encoded data removed]",
      "text/plain": [
       "<Figure size 432x288 with 1 Axes>"
      ]
     },
     "metadata": {
      "needs_background": "light"
     },
     "output_type": "display_data"
    }
   ],
   "source": [
    "plt.imshow(new_images[207])"
   ]
  },
  {
   "cell_type": "code",
   "execution_count": 55,
   "id": "0bc010b6-d5f5-49ea-bca7-60476c9a0f87",
   "metadata": {},
   "outputs": [],
   "source": [
    "arr_new_images = np.array(new_images)\n",
    "X_train = np.append(X_train, arr_new_images, axis=0)\n",
    "y_train = np.append(y_train, new_classes)"
   ]
  },
  {
   "cell_type": "code",
   "execution_count": 56,
   "id": "ccd8fed2-2a26-4e5c-bbcd-42dbc2464c0a",
   "metadata": {},
   "outputs": [
    {
     "data": {
      "text/plain": [
       "(22991, 100, 100, 3)"
      ]
     },
     "execution_count": 56,
     "metadata": {},
     "output_type": "execute_result"
    }
   ],
   "source": [
    "X_train.shape"
   ]
  },
  {
   "cell_type": "code",
   "execution_count": 57,
   "id": "0202957e-7ba4-47b5-aedf-aa02adfa344b",
   "metadata": {},
   "outputs": [
    {
     "data": {
      "text/plain": [
       "(22991,)"
      ]
     },
     "execution_count": 57,
     "metadata": {},
     "output_type": "execute_result"
    }
   ],
   "source": [
    "y_train.shape"
   ]
  },
  {
   "cell_type": "code",
   "execution_count": 150,
   "id": "7108cc5b",
   "metadata": {},
   "outputs": [],
   "source": [
    "import os\n",
    "\n",
    "out_dir = '../Datasets/preprocessed'\n",
    "\n",
    "if not os.path.exists(out_dir):\n",
    "    os.makedirs(out_dir)\n",
    "    \n",
    "train.to_csv(os.path.join(out_dir, 'full_train.csv'), index=False)\n",
    "#np.save(os.path.join(out_dir, 'train_data_64x64x3.npy'), X_train)\n",
    "np.save(os.path.join(out_dir, 'train_labels.npy'), y_train)\n",
    "\n",
    "test.to_csv(os.path.join(out_dir, 'test.csv'), index=False)\n",
    "#np.save(os.path.join(out_dir, 'test_data_64x64x3.npy'), X_test)\n",
    "np.save(os.path.join(out_dir, 'test_labels.npy'), y_test)"
   ]
  },
  {
   "cell_type": "markdown",
   "id": "5b97815f",
   "metadata": {},
   "source": [
    "# 4. Modelos"
   ]
  },
  {
   "cell_type": "code",
   "execution_count": 187,
   "id": "1e938ad8",
   "metadata": {},
   "outputs": [],
   "source": [
    "import tensorflow as tf\n",
    "from tensorflow.keras import Sequential\n",
    "from tensorflow.keras.layers import Dense, Conv2D, MaxPool2D, Flatten\n",
    "\n",
    "def build_cnn(input_shape, n_classes):\n",
    "    model = Sequential([\n",
    "        Conv2D(filters=32, kernel_size=(4,4), input_shape=input_shape, activation='relu'),\n",
    "        MaxPool2D(pool_size=(2,2)),\n",
    "        Conv2D(filters=32, kernel_size=(4,4), activation='relu'),\n",
    "        MaxPool2D(pool_size=(2,2)),\n",
    "\n",
    "        Flatten(),\n",
    "\n",
    "        Dense(256, activation='relu'),\n",
    "        Dense(n_classes, activation='softmax')\n",
    "    ])\n",
    "    \n",
    "    return model"
   ]
  },
  {
   "cell_type": "code",
   "execution_count": 188,
   "id": "da010beb",
   "metadata": {},
   "outputs": [],
   "source": [
    "input_shape = X_train.shape[1:]\n",
    "\n",
    "model = build_cnn(input_shape, n_classes)\n",
    "opt = tf.keras.optimizers.SGD(learning_rate=0.01)\n",
    "model.compile(loss='sparse_categorical_crossentropy', optimizer=opt, metrics=['accuracy'])"
   ]
  },
  {
   "cell_type": "code",
   "execution_count": 189,
   "id": "34f9eed3",
   "metadata": {},
   "outputs": [
    {
     "name": "stdout",
     "output_type": "stream",
     "text": [
      "Model: \"sequential_7\"\n",
      "_________________________________________________________________\n",
      " Layer (type)                Output Shape              Param #   \n",
      "=================================================================\n",
      " conv2d_10 (Conv2D)          (None, 97, 97, 32)        1568      \n",
      "                                                                 \n",
      " max_pooling2d_10 (MaxPoolin  (None, 48, 48, 32)       0         \n",
      " g2D)                                                            \n",
      "                                                                 \n",
      " conv2d_11 (Conv2D)          (None, 45, 45, 32)        16416     \n",
      "                                                                 \n",
      " max_pooling2d_11 (MaxPoolin  (None, 22, 22, 32)       0         \n",
      " g2D)                                                            \n",
      "                                                                 \n",
      " flatten_7 (Flatten)         (None, 15488)             0         \n",
      "                                                                 \n",
      " dense_16 (Dense)            (None, 256)               3965184   \n",
      "                                                                 \n",
      " dense_17 (Dense)            (None, 83)                21331     \n",
      "                                                                 \n",
      "=================================================================\n",
      "Total params: 4,004,499\n",
      "Trainable params: 4,004,499\n",
      "Non-trainable params: 0\n",
      "_________________________________________________________________\n"
     ]
    }
   ],
   "source": [
    "model.summary()"
   ]
  },
  {
   "cell_type": "code",
   "execution_count": 190,
   "id": "42158a97",
   "metadata": {},
   "outputs": [],
   "source": [
    "early_stopping_cb = tf.keras.callbacks.EarlyStopping(patience=10, restore_best_weights=True)"
   ]
  },
  {
   "cell_type": "code",
   "execution_count": 191,
   "id": "597dc00d",
   "metadata": {},
   "outputs": [
    {
     "name": "stdout",
     "output_type": "stream",
     "text": [
      "Epoch 1/100\n"
     ]
    },
    {
     "name": "stderr",
     "output_type": "stream",
     "text": [
      "2022-06-14 20:55:37.760543: I tensorflow/core/grappler/optimizers/custom_graph_optimizer_registry.cc:113] Plugin optimizer for device_type GPU is enabled.\n"
     ]
    },
    {
     "name": "stdout",
     "output_type": "stream",
     "text": [
      "195/195 [==============================] - ETA: 0s - loss: 4.3736 - accuracy: 0.0245"
     ]
    },
    {
     "name": "stderr",
     "output_type": "stream",
     "text": [
      "2022-06-14 20:55:45.442535: I tensorflow/core/grappler/optimizers/custom_graph_optimizer_registry.cc:113] Plugin optimizer for device_type GPU is enabled.\n"
     ]
    },
    {
     "name": "stdout",
     "output_type": "stream",
     "text": [
      "195/195 [==============================] - 9s 36ms/step - loss: 4.3736 - accuracy: 0.0245 - val_loss: 4.3478 - val_accuracy: 0.0276\n",
      "Epoch 2/100\n",
      "195/195 [==============================] - 6s 32ms/step - loss: 4.3054 - accuracy: 0.0430 - val_loss: 4.2814 - val_accuracy: 0.0481\n",
      "Epoch 3/100\n",
      "195/195 [==============================] - 6s 32ms/step - loss: 4.2145 - accuracy: 0.0605 - val_loss: 4.1999 - val_accuracy: 0.0545\n",
      "Epoch 4/100\n",
      "195/195 [==============================] - 6s 32ms/step - loss: 4.0719 - accuracy: 0.0739 - val_loss: 4.0974 - val_accuracy: 0.0680\n",
      "Epoch 5/100\n",
      "195/195 [==============================] - 6s 33ms/step - loss: 3.9110 - accuracy: 0.0950 - val_loss: 4.0404 - val_accuracy: 0.0744\n",
      "Epoch 6/100\n",
      "195/195 [==============================] - 6s 33ms/step - loss: 3.7213 - accuracy: 0.1243 - val_loss: 3.8498 - val_accuracy: 0.0956\n",
      "Epoch 7/100\n",
      "195/195 [==============================] - 6s 33ms/step - loss: 3.5048 - accuracy: 0.1673 - val_loss: 3.8628 - val_accuracy: 0.1084\n",
      "Epoch 8/100\n",
      "195/195 [==============================] - 6s 33ms/step - loss: 3.2889 - accuracy: 0.1979 - val_loss: 3.6590 - val_accuracy: 0.1212\n",
      "Epoch 9/100\n",
      "195/195 [==============================] - 6s 33ms/step - loss: 3.0048 - accuracy: 0.2628 - val_loss: 3.4397 - val_accuracy: 0.1745\n",
      "Epoch 10/100\n",
      "195/195 [==============================] - 6s 33ms/step - loss: 2.6565 - accuracy: 0.3345 - val_loss: 3.1029 - val_accuracy: 0.2373\n",
      "Epoch 11/100\n",
      "195/195 [==============================] - 6s 33ms/step - loss: 2.3132 - accuracy: 0.4103 - val_loss: 3.0915 - val_accuracy: 0.2444\n",
      "Epoch 12/100\n",
      "195/195 [==============================] - 6s 32ms/step - loss: 1.9557 - accuracy: 0.4950 - val_loss: 2.8552 - val_accuracy: 0.3105\n",
      "Epoch 13/100\n",
      "195/195 [==============================] - 6s 33ms/step - loss: 1.5898 - accuracy: 0.5836 - val_loss: 2.9528 - val_accuracy: 0.3188\n",
      "Epoch 14/100\n",
      "195/195 [==============================] - 6s 32ms/step - loss: 1.2422 - accuracy: 0.6644 - val_loss: 2.9204 - val_accuracy: 0.3605\n",
      "Epoch 15/100\n",
      "195/195 [==============================] - 6s 33ms/step - loss: 0.9166 - accuracy: 0.7526 - val_loss: 2.9682 - val_accuracy: 0.3945\n",
      "Epoch 16/100\n",
      "195/195 [==============================] - 6s 32ms/step - loss: 0.6244 - accuracy: 0.8349 - val_loss: 3.2069 - val_accuracy: 0.3778\n",
      "Epoch 17/100\n",
      "195/195 [==============================] - 6s 32ms/step - loss: 0.4296 - accuracy: 0.8917 - val_loss: 3.2753 - val_accuracy: 0.3855\n",
      "Epoch 18/100\n",
      "195/195 [==============================] - 6s 32ms/step - loss: 0.2152 - accuracy: 0.9509 - val_loss: 3.2665 - val_accuracy: 0.4189\n",
      "Epoch 19/100\n",
      "195/195 [==============================] - 6s 32ms/step - loss: 0.1036 - accuracy: 0.9801 - val_loss: 3.3892 - val_accuracy: 0.4086\n",
      "Epoch 20/100\n",
      "195/195 [==============================] - 6s 33ms/step - loss: 0.0457 - accuracy: 0.9953 - val_loss: 3.5084 - val_accuracy: 0.4439\n",
      "Epoch 21/100\n",
      "195/195 [==============================] - 6s 33ms/step - loss: 0.0250 - accuracy: 0.9984 - val_loss: 3.6604 - val_accuracy: 0.4394\n",
      "Epoch 22/100\n",
      "195/195 [==============================] - 6s 32ms/step - loss: 0.0157 - accuracy: 0.9990 - val_loss: 3.6041 - val_accuracy: 0.4554\n"
     ]
    }
   ],
   "source": [
    "history = model.fit(X_train, y_train, epochs=100, batch_size=32, validation_split=0.2, callbacks=[early_stopping_cb])"
   ]
  },
  {
   "cell_type": "code",
   "execution_count": 194,
   "id": "ac1d5290-2c01-4c0f-9794-7a77f5491c7a",
   "metadata": {},
   "outputs": [],
   "source": [
    "import pandas as pd\n",
    "import matplotlib.pyplot as plt\n",
    "\n",
    "history_df = pd.DataFrame(history.history)"
   ]
  },
  {
   "cell_type": "code",
   "execution_count": 195,
   "id": "0b4be607-05ec-4d60-97cd-819bcfcc1568",
   "metadata": {},
   "outputs": [
    {
     "data": {
      "text/plain": [
       "Text(0, 0.5, 'Score')"
      ]
     },
     "execution_count": 195,
     "metadata": {},
     "output_type": "execute_result"
    },
    {
     "data": {
      "image/png": "[encoded data removed]",
      "text/plain": [
       "<Figure size 576x360 with 1 Axes>"
      ]
     },
     "metadata": {
      "needs_background": "light"
     },
     "output_type": "display_data"
    },
    {
     "data": {
      "image/png": "[encoded data removed]",
      "text/plain": [
       "<Figure size 576x360 with 1 Axes>"
      ]
     },
     "metadata": {
      "needs_background": "light"
     },
     "output_type": "display_data"
    }
   ],
   "source": [
    "history_df[['loss', 'val_loss']].plot(figsize=(8, 5))\n",
    "plt.grid(True)\n",
    "plt.xticks(range(30))\n",
    "plt.xlabel('Epochs')\n",
    "plt.ylabel('Score')\n",
    "\n",
    "history_df[['accuracy', 'val_accuracy']].plot(figsize=(8, 5))\n",
    "plt.grid(True)\n",
    "plt.xticks(range(30))\n",
    "plt.xlabel('Epochs')\n",
    "plt.ylabel('Score')"
   ]
  },
  {
   "cell_type": "markdown",
   "id": "fe8b641f-57e0-48ba-bb94-b37e0fbb85a1",
   "metadata": {},
   "source": [
    "#### **Evaluation**\n",
    "https://www.tensorflow.org/api_docs/python/tf/keras/Sequential#evaluate"
   ]
  },
  {
   "cell_type": "code",
   "execution_count": 196,
   "id": "caf35e61-9d2a-402f-abc3-3ad36ea6d8b3",
   "metadata": {},
   "outputs": [
    {
     "name": "stdout",
     "output_type": "stream",
     "text": [
      "52/52 [==============================] - 1s 14ms/step - loss: 3.0224 - accuracy: 0.2723\n"
     ]
    },
    {
     "data": {
      "text/plain": [
       "[3.0224242210388184, 0.2722891569137573]"
      ]
     },
     "execution_count": 196,
     "metadata": {},
     "output_type": "execute_result"
    }
   ],
   "source": [
    "model.evaluate(X_test, y_test)"
   ]
  },
  {
   "cell_type": "markdown",
   "id": "966876b9-7903-449b-b45f-efb5a3b67b4e",
   "metadata": {},
   "source": [
    "#### **Prediction**\n",
    "https://www.tensorflow.org/api_docs/python/tf/keras/Sequential#predict"
   ]
  },
  {
   "cell_type": "code",
   "execution_count": 197,
   "id": "003056d9-660a-453f-874b-83dcb4a7a14f",
   "metadata": {},
   "outputs": [
    {
     "name": "stdout",
     "output_type": "stream",
     "text": [
      " 8/52 [===>..........................] - ETA: 0s"
     ]
    },
    {
     "name": "stderr",
     "output_type": "stream",
     "text": [
      "2022-06-14 20:59:52.933301: I tensorflow/core/grappler/optimizers/custom_graph_optimizer_registry.cc:113] Plugin optimizer for device_type GPU is enabled.\n"
     ]
    },
    {
     "name": "stdout",
     "output_type": "stream",
     "text": [
      "52/52 [==============================] - 1s 13ms/step\n"
     ]
    },
    {
     "data": {
      "text/plain": [
       "array([[2.40835622e-01, 4.68402402e-03, 4.53140028e-03, ...,\n",
       "        3.89058166e-03, 9.82501917e-03, 4.03682323e-04],\n",
       "       [2.40152497e-02, 2.04448495e-02, 6.45359233e-02, ...,\n",
       "        6.28657732e-03, 3.19031155e-04, 9.75469779e-03],\n",
       "       [3.08604181e-01, 4.37456090e-03, 1.40626437e-03, ...,\n",
       "        5.66703457e-05, 5.00988208e-05, 3.93579295e-03],\n",
       "       ...,\n",
       "       [4.27874038e-04, 1.14224304e-03, 2.64154223e-04, ...,\n",
       "        5.47717558e-04, 3.30808216e-05, 1.43525422e-01],\n",
       "       [1.02945073e-02, 4.82566655e-03, 1.52993435e-03, ...,\n",
       "        2.75484839e-04, 1.27076125e-02, 4.28763665e-02],\n",
       "       [8.97973310e-04, 6.15978497e-05, 2.01189003e-04, ...,\n",
       "        3.39879887e-04, 4.26878751e-06, 4.46056455e-01]], dtype=float32)"
      ]
     },
     "execution_count": 197,
     "metadata": {},
     "output_type": "execute_result"
    }
   ],
   "source": [
    "y_test_proba = model.predict(X_test)\n",
    "y_test_proba"
   ]
  },
  {
   "cell_type": "markdown",
   "id": "f376b7d9-6ab1-4614-9720-b056507bec28",
   "metadata": {},
   "source": [
    "#### **Class Prediction**\n",
    "https://stackoverflow.com/a/69503180/7069696"
   ]
  },
  {
   "cell_type": "code",
   "execution_count": 198,
   "id": "82518572-7152-4de5-a453-ac1d491814ee",
   "metadata": {},
   "outputs": [
    {
     "data": {
      "text/plain": [
       "array([ 0, 16,  9, ...,  4, 34, 82])"
      ]
     },
     "execution_count": 198,
     "metadata": {},
     "output_type": "execute_result"
    }
   ],
   "source": [
    "y_test_pred = np.argmax(y_test_proba, axis=1)\n",
    "y_test_pred"
   ]
  },
  {
   "cell_type": "code",
   "execution_count": 199,
   "id": "f0063618-345a-452b-bc91-1c350e14f97d",
   "metadata": {},
   "outputs": [
    {
     "name": "stdout",
     "output_type": "stream",
     "text": [
      "                      precision    recall  f1-score   support\n",
      "\n",
      "        Adam Sandler       1.00      0.05      0.10        20\n",
      "        Alec Baldwin       0.40      0.10      0.16        20\n",
      "      Angelina Jolie       0.67      0.30      0.41        20\n",
      "     Anna Kournikova       0.25      0.05      0.08        20\n",
      "      Ashton Kutcher       0.67      0.20      0.31        20\n",
      "       Avril Lavigne       0.26      0.40      0.31        20\n",
      "        Barack Obama       0.47      0.35      0.40        20\n",
      "         Ben Affleck       0.18      0.35      0.24        20\n",
      "     Beyonce Knowles       0.71      0.25      0.37        20\n",
      "           Brad Pitt       0.09      0.40      0.15        20\n",
      "        Cameron Diaz       0.18      0.25      0.21        20\n",
      "      Cate Blanchett       0.33      0.05      0.09        20\n",
      "     Charlize Theron       0.00      0.00      0.00        20\n",
      "     Christina Ricci       0.67      0.10      0.17        20\n",
      "    Claudia Schiffer       0.46      0.30      0.36        20\n",
      "          Clive Owen       0.23      0.15      0.18        20\n",
      "       Colin Farrell       0.42      0.25      0.31        20\n",
      "        Colin Powell       0.55      0.30      0.39        20\n",
      "   Cristiano Ronaldo       0.31      0.75      0.44        20\n",
      "        Daniel Craig       0.31      0.20      0.24        20\n",
      "    Daniel Radcliffe       0.35      0.40      0.37        20\n",
      "       David Beckham       0.40      0.70      0.51        20\n",
      "      David Duchovny       0.22      0.20      0.21        20\n",
      "     Denise Richards       0.09      0.50      0.15        20\n",
      "      Drew Barrymore       0.33      0.10      0.15        20\n",
      "      Dustin Hoffman       0.00      0.00      0.00        20\n",
      "         Ehud Olmert       0.38      0.30      0.33        20\n",
      "          Eva Mendes       0.10      0.05      0.07        20\n",
      "          Faith Hill       0.38      0.15      0.21        20\n",
      "      George Clooney       0.30      0.35      0.33        20\n",
      "        Gordon Brown       0.90      0.45      0.60        20\n",
      "     Gwyneth Paltrow       0.78      0.35      0.48        20\n",
      "         Halle Berry       0.25      0.05      0.08        20\n",
      "       Harrison Ford       0.53      0.40      0.46        20\n",
      "        Hugh Jackman       0.67      0.20      0.31        20\n",
      "         Hugh Laurie       0.53      0.40      0.46        20\n",
      "      Jack Nicholson       0.17      0.05      0.08        20\n",
      "    Jennifer Aniston       0.15      0.35      0.21        20\n",
      "      Jennifer Lopez       0.11      0.10      0.10        20\n",
      "Jennifer Love Hewitt       0.50      0.05      0.09        20\n",
      "        Jessica Alba       0.00      0.00      0.00        20\n",
      "     Jessica Simpson       0.50      0.30      0.37        20\n",
      "     Joaquin Phoenix       0.40      0.10      0.16        20\n",
      "       John Travolta       0.75      0.30      0.43        20\n",
      "       Julia Roberts       0.27      0.20      0.23        20\n",
      "        Julia Stiles       0.33      0.15      0.21        20\n",
      "           Kate Moss       0.20      0.05      0.08        20\n",
      "        Kate Winslet       0.00      0.00      0.00        20\n",
      "     Katherine Heigl       0.38      0.15      0.21        20\n",
      "     Keira Knightley       0.16      0.35      0.22        20\n",
      "   Kiefer Sutherland       0.37      0.35      0.36        20\n",
      "   Leonardo DiCaprio       0.47      0.35      0.40        20\n",
      "       Lindsay Lohan       0.23      0.40      0.29        20\n",
      "        Mariah Carey       0.33      0.15      0.21        20\n",
      "      Martha Stewart       0.83      0.25      0.38        20\n",
      "          Matt Damon       1.00      0.30      0.46        20\n",
      "            Meg Ryan       0.42      0.50      0.45        20\n",
      "        Meryl Streep       0.00      0.00      0.00        20\n",
      "   Michael Bloomberg       0.35      0.45      0.39        20\n",
      "       Mickey Rourke       0.31      0.20      0.24        20\n",
      "         Miley Cyrus       0.52      0.60      0.56        20\n",
      "      Morgan Freeman       0.27      0.70      0.39        20\n",
      "       Nicole Kidman       0.43      0.50      0.47        20\n",
      "       Nicole Richie       0.50      0.10      0.17        20\n",
      "       Orlando Bloom       0.16      0.40      0.23        20\n",
      "   Reese Witherspoon       0.56      0.25      0.34        20\n",
      "     Renee Zellweger       0.20      0.05      0.08        20\n",
      "        Ricky Martin       0.67      0.10      0.17        20\n",
      "        Robert Gates       0.71      0.25      0.37        20\n",
      "         Sania Mirza       0.18      0.30      0.23        20\n",
      "  Scarlett Johansson       0.07      0.70      0.12        20\n",
      "       Shahrukh Khan       0.83      0.25      0.38        20\n",
      "             Shakira       0.60      0.15      0.24        20\n",
      "        Sharon Stone       0.40      0.20      0.27        20\n",
      "   Silvio Berlusconi       0.44      0.35      0.39        20\n",
      "     Stephen Colbert       0.22      0.65      0.33        20\n",
      "        Steve Carell       0.61      0.70      0.65        20\n",
      "          Tom Cruise       0.50      0.35      0.41        20\n",
      "         Uma Thurman       0.16      0.20      0.18        20\n",
      "    Victoria Beckham       0.15      0.40      0.22        20\n",
      "     Viggo Mortensen       0.50      0.05      0.09        20\n",
      "          Will Smith       0.82      0.45      0.58        20\n",
      "           Zac Efron       0.73      0.40      0.52        20\n",
      "\n",
      "            accuracy                           0.27      1660\n",
      "           macro avg       0.39      0.27      0.27      1660\n",
      "        weighted avg       0.39      0.27      0.27      1660\n",
      "\n"
     ]
    },
    {
     "name": "stderr",
     "output_type": "stream",
     "text": [
      "/opt/homebrew/Caskroom/miniforge/base/envs/tensorflow_m1/lib/python3.9/site-packages/sklearn/metrics/_classification.py:1327: UndefinedMetricWarning: Precision and F-score are ill-defined and being set to 0.0 in labels with no predicted samples. Use `zero_division` parameter to control this behavior.\n",
      "  _warn_prf(average, modifier, msg_start, len(result))\n",
      "/opt/homebrew/Caskroom/miniforge/base/envs/tensorflow_m1/lib/python3.9/site-packages/sklearn/metrics/_classification.py:1327: UndefinedMetricWarning: Precision and F-score are ill-defined and being set to 0.0 in labels with no predicted samples. Use `zero_division` parameter to control this behavior.\n",
      "  _warn_prf(average, modifier, msg_start, len(result))\n",
      "/opt/homebrew/Caskroom/miniforge/base/envs/tensorflow_m1/lib/python3.9/site-packages/sklearn/metrics/_classification.py:1327: UndefinedMetricWarning: Precision and F-score are ill-defined and being set to 0.0 in labels with no predicted samples. Use `zero_division` parameter to control this behavior.\n",
      "  _warn_prf(average, modifier, msg_start, len(result))\n"
     ]
    }
   ],
   "source": [
    "from sklearn.metrics import classification_report\n",
    "\n",
    "class_names = label_encoder.classes_\n",
    "\n",
    "print(classification_report(y_test, y_test_pred, target_names=[name for name in class_names]))"
   ]
  },
  {
   "cell_type": "markdown",
   "id": "8af3b7c3-33c6-430d-8463-79fd096ca13e",
   "metadata": {},
   "source": [
    "--------------"
   ]
  },
  {
   "cell_type": "code",
   "execution_count": null,
   "id": "2c784c00-b0f8-4779-b507-a6a234053a73",
   "metadata": {},
   "outputs": [],
   "source": []
  },
  {
   "cell_type": "code",
   "execution_count": 208,
   "id": "ac19ecab-ed2f-4896-b4e8-6982e587d36b",
   "metadata": {},
   "outputs": [],
   "source": [
    "# https://keras.io/api/applications/vgg/\n",
    "# https://towardsdatascience.com/transfer-learning-with-vgg16-and-keras-50ea161580b4\n",
    "\n",
    "from tensorflow.keras.applications import VGG16\n",
    "\n",
    "base_model = VGG16(include_top=None,   # we will ignore the top layers that consists of the MLP classifier of VGG16\n",
    "                   weights=\"imagenet\", # we will use the weights learned for the ImageNet dataset\n",
    "                   input_shape=X_train.shape[1:])  # let's consider a smaller resolution than the original paper due to lack of memory\n",
    "\n",
    "\n",
    "# freeze the base model weights ==> these weights won't be updated during training\n",
    "# i.e., the weights of all layers from the base model are not updated\n",
    "base_model.trainable = False"
   ]
  },
  {
   "cell_type": "code",
   "execution_count": 209,
   "id": "bb5d6c5b-b602-410e-a8b0-cfbb787e799b",
   "metadata": {},
   "outputs": [
    {
     "name": "stdout",
     "output_type": "stream",
     "text": [
      "Model: \"vgg16\"\n",
      "_________________________________________________________________\n",
      " Layer (type)                Output Shape              Param #   \n",
      "=================================================================\n",
      " input_8 (InputLayer)        [(None, 100, 100, 3)]     0         \n",
      "                                                                 \n",
      " block1_conv1 (Conv2D)       (None, 100, 100, 64)      1792      \n",
      "                                                                 \n",
      " block1_conv2 (Conv2D)       (None, 100, 100, 64)      36928     \n",
      "                                                                 \n",
      " block1_pool (MaxPooling2D)  (None, 50, 50, 64)        0         \n",
      "                                                                 \n",
      " block2_conv1 (Conv2D)       (None, 50, 50, 128)       73856     \n",
      "                                                                 \n",
      " block2_conv2 (Conv2D)       (None, 50, 50, 128)       147584    \n",
      "                                                                 \n",
      " block2_pool (MaxPooling2D)  (None, 25, 25, 128)       0         \n",
      "                                                                 \n",
      " block3_conv1 (Conv2D)       (None, 25, 25, 256)       295168    \n",
      "                                                                 \n",
      " block3_conv2 (Conv2D)       (None, 25, 25, 256)       590080    \n",
      "                                                                 \n",
      " block3_conv3 (Conv2D)       (None, 25, 25, 256)       590080    \n",
      "                                                                 \n",
      " block3_pool (MaxPooling2D)  (None, 12, 12, 256)       0         \n",
      "                                                                 \n",
      " block4_conv1 (Conv2D)       (None, 12, 12, 512)       1180160   \n",
      "                                                                 \n",
      " block4_conv2 (Conv2D)       (None, 12, 12, 512)       2359808   \n",
      "                                                                 \n",
      " block4_conv3 (Conv2D)       (None, 12, 12, 512)       2359808   \n",
      "                                                                 \n",
      " block4_pool (MaxPooling2D)  (None, 6, 6, 512)         0         \n",
      "                                                                 \n",
      " block5_conv1 (Conv2D)       (None, 6, 6, 512)         2359808   \n",
      "                                                                 \n",
      " block5_conv2 (Conv2D)       (None, 6, 6, 512)         2359808   \n",
      "                                                                 \n",
      " block5_conv3 (Conv2D)       (None, 6, 6, 512)         2359808   \n",
      "                                                                 \n",
      " block5_pool (MaxPooling2D)  (None, 3, 3, 512)         0         \n",
      "                                                                 \n",
      "=================================================================\n",
      "Total params: 14,714,688\n",
      "Trainable params: 0\n",
      "Non-trainable params: 14,714,688\n",
      "_________________________________________________________________\n"
     ]
    }
   ],
   "source": [
    "base_model.summary()"
   ]
  },
  {
   "cell_type": "markdown",
   "id": "164d9e71-9069-49b5-9ec3-fc92f8a064cf",
   "metadata": {},
   "source": [
    "Note that **there are no Trainable parameters**."
   ]
  },
  {
   "cell_type": "markdown",
   "id": "49ea82d3-dae9-436e-acf3-3c43f6c65583",
   "metadata": {},
   "source": [
    "<br/>\n",
    "\n",
    "**Plugging a Fully-connected network classifier into the base model**"
   ]
  },
  {
   "cell_type": "code",
   "execution_count": 210,
   "id": "c294b0bc-5bea-46c4-b0a3-13121e3df06b",
   "metadata": {},
   "outputs": [],
   "source": [
    "from tensorflow.keras import Sequential\n",
    "from tensorflow.keras.layers import Flatten, Dense\n",
    "\n",
    "\n",
    "model = Sequential([\n",
    "    # our base model\n",
    "    base_model,\n",
    "    \n",
    "    Flatten(),\n",
    "    \n",
    "    # FC classifier\n",
    "    Dense(128, activation='relu'),\n",
    "    Dense(64, activation='relu'),\n",
    "    \n",
    "    Dense(10, activation='softmax')\n",
    "])"
   ]
  },
  {
   "cell_type": "code",
   "execution_count": 211,
   "id": "0d3a7e2e-834f-4f89-af9f-07c632b09531",
   "metadata": {},
   "outputs": [
    {
     "name": "stdout",
     "output_type": "stream",
     "text": [
      "Model: \"sequential_9\"\n",
      "_________________________________________________________________\n",
      " Layer (type)                Output Shape              Param #   \n",
      "=================================================================\n",
      " vgg16 (Functional)          (None, 3, 3, 512)         14714688  \n",
      "                                                                 \n",
      " flatten_9 (Flatten)         (None, 4608)              0         \n",
      "                                                                 \n",
      " dense_21 (Dense)            (None, 128)               589952    \n",
      "                                                                 \n",
      " dense_22 (Dense)            (None, 64)                8256      \n",
      "                                                                 \n",
      " dense_23 (Dense)            (None, 10)                650       \n",
      "                                                                 \n",
      "=================================================================\n",
      "Total params: 15,313,546\n",
      "Trainable params: 598,858\n",
      "Non-trainable params: 14,714,688\n",
      "_________________________________________________________________\n"
     ]
    }
   ],
   "source": [
    "model.summary()"
   ]
  },
  {
   "cell_type": "markdown",
   "id": "75e1ae84-18b3-4f52-ab57-8de91a29c6d9",
   "metadata": {},
   "source": [
    "Although our **model** has _a lot of parameters_, there is a **smaller** number of **trained parameters**."
   ]
  },
  {
   "cell_type": "code",
   "execution_count": 212,
   "id": "f2412f31-bac9-4a0b-9ae0-f59e654ff058",
   "metadata": {},
   "outputs": [],
   "source": [
    "from tensorflow.keras.optimizers import Adam\n",
    "opt = Adam(learning_rate=0.001)\n",
    "model.compile(loss='sparse_categorical_crossentropy', optimizer=opt, metrics=['accuracy'])"
   ]
  },
  {
   "cell_type": "markdown",
   "id": "d9b6ef86-c359-48a7-852a-39bdcf20f908",
   "metadata": {},
   "source": [
    "### 2.3 Training with Early Stopping\n",
    "\n",
    "In case of GPU drivers, we can monitor its use by [_gpustat_](https://github.com/wookayin/gpustat).\n",
    "\n",
    "On terminal, use: `gpustat -cpi`\n"
   ]
  },
  {
   "cell_type": "code",
   "execution_count": 213,
   "id": "3ffc80df-97b4-471f-ba06-27a649ccef8b",
   "metadata": {},
   "outputs": [],
   "source": [
    "early_stopping_cb = tf.keras.callbacks.EarlyStopping(patience=10, restore_best_weights=True)"
   ]
  },
  {
   "cell_type": "code",
   "execution_count": 215,
   "id": "0eac198e-23f2-42b1-8dce-7dba7b0d6368",
   "metadata": {},
   "outputs": [
    {
     "name": "stdout",
     "output_type": "stream",
     "text": [
      "Epoch 1/100\n"
     ]
    },
    {
     "name": "stderr",
     "output_type": "stream",
     "text": [
      "2022-06-14 21:02:50.205095: I tensorflow/core/grappler/optimizers/custom_graph_optimizer_registry.cc:113] Plugin optimizer for device_type GPU is enabled.\n"
     ]
    },
    {
     "name": "stdout",
     "output_type": "stream",
     "text": [
      "244/244 [==============================] - ETA: 0s - loss: 4.9165 - accuracy: 0.0145"
     ]
    },
    {
     "name": "stderr",
     "output_type": "stream",
     "text": [
      "2022-06-14 21:03:23.452511: I tensorflow/core/grappler/optimizers/custom_graph_optimizer_registry.cc:113] Plugin optimizer for device_type GPU is enabled.\n"
     ]
    },
    {
     "name": "stdout",
     "output_type": "stream",
     "text": [
      "244/244 [==============================] - 41s 165ms/step - loss: 4.9165 - accuracy: 0.0145 - val_loss: 13.2926 - val_accuracy: 0.0231\n",
      "Epoch 2/100\n",
      "244/244 [==============================] - 37s 150ms/step - loss: 50.3816 - accuracy: 0.0144 - val_loss: 90.8992 - val_accuracy: 0.0231\n",
      "Epoch 3/100\n",
      "244/244 [==============================] - 37s 153ms/step - loss: 154.3661 - accuracy: 0.0139 - val_loss: 367.4898 - val_accuracy: 0.0205\n",
      "Epoch 4/100\n",
      "244/244 [==============================] - 40s 165ms/step - loss: 308.1139 - accuracy: 0.0128 - val_loss: 290.9089 - val_accuracy: 0.0067\n",
      "Epoch 5/100\n",
      "244/244 [==============================] - 41s 169ms/step - loss: 492.6900 - accuracy: 0.0151 - val_loss: 639.9091 - val_accuracy: 0.0231\n",
      "Epoch 6/100\n",
      "244/244 [==============================] - 41s 169ms/step - loss: 713.2940 - accuracy: 0.0137 - val_loss: 803.6475 - val_accuracy: 0.0087\n",
      "Epoch 7/100\n",
      "244/244 [==============================] - 41s 168ms/step - loss: 1021.3368 - accuracy: 0.0133 - val_loss: 1062.5234 - val_accuracy: 0.0231\n",
      "Epoch 8/100\n",
      "244/244 [==============================] - 41s 168ms/step - loss: 1209.3906 - accuracy: 0.0122 - val_loss: 1692.3516 - val_accuracy: 0.0231\n",
      "Epoch 9/100\n",
      "244/244 [==============================] - 43s 177ms/step - loss: 1602.5410 - accuracy: 0.0148 - val_loss: 2061.7256 - val_accuracy: 0.0231\n",
      "Epoch 10/100\n",
      "244/244 [==============================] - 45s 183ms/step - loss: 1911.0610 - accuracy: 0.0139 - val_loss: 2433.9775 - val_accuracy: 0.0067\n",
      "Epoch 11/100\n",
      "244/244 [==============================] - 44s 182ms/step - loss: 2110.0273 - accuracy: 0.0127 - val_loss: 2908.2690 - val_accuracy: 0.0067\n"
     ]
    }
   ],
   "source": [
    "history = model.fit(X_train, y_train, epochs=100, batch_size=32, validation_data=(X_validation, y_validation), callbacks=[early_stopping_cb])"
   ]
  },
  {
   "cell_type": "markdown",
   "id": "6ea10135-a95a-4c83-9f16-322664e39015",
   "metadata": {
    "tags": []
   },
   "source": [
    "#### **Visualizing the training history**"
   ]
  },
  {
   "cell_type": "code",
   "execution_count": 216,
   "id": "7e2f3603-566a-4efd-b631-7d82e731f042",
   "metadata": {},
   "outputs": [],
   "source": [
    "import pandas as pd\n",
    "import matplotlib.pyplot as plt\n",
    "\n",
    "history_df = pd.DataFrame(history.history)"
   ]
  },
  {
   "cell_type": "code",
   "execution_count": 217,
   "id": "b34ee34a-0eb4-4eb2-88e1-8fc6f66b15a9",
   "metadata": {},
   "outputs": [
    {
     "data": {
      "text/plain": [
       "Text(0, 0.5, 'Score')"
      ]
     },
     "execution_count": 217,
     "metadata": {},
     "output_type": "execute_result"
    },
    {
     "data": {
      "image/png": "[encoded data removed]",
      "text/plain": [
       "<Figure size 576x360 with 1 Axes>"
      ]
     },
     "metadata": {
      "needs_background": "light"
     },
     "output_type": "display_data"
    },
    {
     "data": {
      "image/png": "[encoded data removed]",
      "text/plain": [
       "<Figure size 576x360 with 1 Axes>"
      ]
     },
     "metadata": {
      "needs_background": "light"
     },
     "output_type": "display_data"
    }
   ],
   "source": [
    "history_df[['loss', 'val_loss']].plot(figsize=(8, 5))\n",
    "plt.grid(True)\n",
    "# plt.xticks(range(100))\n",
    "plt.xlabel('Epochs')\n",
    "plt.ylabel('Score')\n",
    "\n",
    "history_df[['accuracy', 'val_accuracy']].plot(figsize=(8, 5))\n",
    "plt.grid(True)\n",
    "# plt.xticks(range(100))\n",
    "plt.xlabel('Epochs')\n",
    "plt.ylabel('Score')"
   ]
  },
  {
   "cell_type": "markdown",
   "id": "b0a3a4bf-0e05-4120-a222-2ae24033e8f9",
   "metadata": {},
   "source": [
    "## 3. Evaluating and Predicting New Samples by using our Overfitted Model"
   ]
  },
  {
   "cell_type": "markdown",
   "id": "38ee5f16-ba8d-4887-b485-9beb6de2f3cd",
   "metadata": {},
   "source": [
    "#### **Evaluation**\n",
    "https://www.tensorflow.org/api_docs/python/tf/keras/Sequential#evaluate"
   ]
  },
  {
   "cell_type": "code",
   "execution_count": 218,
   "id": "b2b5fad7-397d-483e-8cfb-8628f5b07cc4",
   "metadata": {},
   "outputs": [
    {
     "name": "stdout",
     "output_type": "stream",
     "text": [
      "52/52 [==============================] - 6s 120ms/step - loss: 15.6560 - accuracy: 0.0120\n"
     ]
    },
    {
     "data": {
      "text/plain": [
       "[15.655982971191406, 0.012048193253576756]"
      ]
     },
     "execution_count": 218,
     "metadata": {},
     "output_type": "execute_result"
    }
   ],
   "source": [
    "model.evaluate(X_test, y_test)"
   ]
  },
  {
   "cell_type": "markdown",
   "id": "2118c1c8-6309-4685-9b31-019524f194b9",
   "metadata": {},
   "source": [
    "#### **Prediction**\n",
    "https://www.tensorflow.org/api_docs/python/tf/keras/Sequential#predict"
   ]
  },
  {
   "cell_type": "code",
   "execution_count": 219,
   "id": "5dd4c85e-c025-4c3d-911a-d01c1d187f2f",
   "metadata": {},
   "outputs": [
    {
     "name": "stdout",
     "output_type": "stream",
     "text": [
      " 2/52 [>.............................] - ETA: 3s"
     ]
    },
    {
     "name": "stderr",
     "output_type": "stream",
     "text": [
      "2022-06-14 21:10:42.181088: I tensorflow/core/grappler/optimizers/custom_graph_optimizer_registry.cc:113] Plugin optimizer for device_type GPU is enabled.\n"
     ]
    },
    {
     "name": "stdout",
     "output_type": "stream",
     "text": [
      "52/52 [==============================] - 6s 119ms/step\n"
     ]
    },
    {
     "data": {
      "text/plain": [
       "array([[0.0000000e+00, 0.0000000e+00, 7.9537980e-30, ..., 0.0000000e+00,\n",
       "        0.0000000e+00, 1.0000000e+00],\n",
       "       [0.0000000e+00, 0.0000000e+00, 1.3031112e-32, ..., 0.0000000e+00,\n",
       "        0.0000000e+00, 1.0000000e+00],\n",
       "       [0.0000000e+00, 0.0000000e+00, 3.4716429e-36, ..., 0.0000000e+00,\n",
       "        0.0000000e+00, 1.0000000e+00],\n",
       "       ...,\n",
       "       [0.0000000e+00, 4.6976524e-38, 9.3746287e-28, ..., 0.0000000e+00,\n",
       "        0.0000000e+00, 1.0000000e+00],\n",
       "       [0.0000000e+00, 0.0000000e+00, 4.1662308e-31, ..., 0.0000000e+00,\n",
       "        0.0000000e+00, 1.0000000e+00],\n",
       "       [0.0000000e+00, 1.7069982e-29, 8.7118759e-22, ..., 0.0000000e+00,\n",
       "        0.0000000e+00, 1.0000000e+00]], dtype=float32)"
      ]
     },
     "execution_count": 219,
     "metadata": {},
     "output_type": "execute_result"
    }
   ],
   "source": [
    "y_test_proba = model.predict(X_test)\n",
    "y_test_proba"
   ]
  },
  {
   "cell_type": "markdown",
   "id": "ef22a621-2d0d-419b-97d3-a8dd1ac3046b",
   "metadata": {},
   "source": [
    "#### **Class Prediction**\n",
    "https://stackoverflow.com/a/69503180/7069696"
   ]
  },
  {
   "cell_type": "code",
   "execution_count": 220,
   "id": "c5f0adfa-c840-46ca-a058-e81d7ad17745",
   "metadata": {},
   "outputs": [
    {
     "data": {
      "text/plain": [
       "array([9, 9, 9, ..., 9, 9, 9])"
      ]
     },
     "execution_count": 220,
     "metadata": {},
     "output_type": "execute_result"
    }
   ],
   "source": [
    "y_test_pred = np.argmax(y_test_proba, axis=1)\n",
    "y_test_pred"
   ]
  },
  {
   "cell_type": "code",
   "execution_count": 221,
   "id": "129f3502-9be3-4c93-ac8b-fa6ccdb8185d",
   "metadata": {},
   "outputs": [
    {
     "name": "stdout",
     "output_type": "stream",
     "text": [
      "                      precision    recall  f1-score   support\n",
      "\n",
      "        Adam Sandler       0.00      0.00      0.00        20\n",
      "        Alec Baldwin       0.00      0.00      0.00        20\n",
      "      Angelina Jolie       0.00      0.00      0.00        20\n",
      "     Anna Kournikova       0.00      0.00      0.00        20\n",
      "      Ashton Kutcher       0.00      0.00      0.00        20\n",
      "       Avril Lavigne       0.00      0.00      0.00        20\n",
      "        Barack Obama       0.00      0.00      0.00        20\n",
      "         Ben Affleck       0.00      0.00      0.00        20\n",
      "     Beyonce Knowles       0.00      0.00      0.00        20\n",
      "           Brad Pitt       0.01      1.00      0.02        20\n",
      "        Cameron Diaz       0.00      0.00      0.00        20\n",
      "      Cate Blanchett       0.00      0.00      0.00        20\n",
      "     Charlize Theron       0.00      0.00      0.00        20\n",
      "     Christina Ricci       0.00      0.00      0.00        20\n",
      "    Claudia Schiffer       0.00      0.00      0.00        20\n",
      "          Clive Owen       0.00      0.00      0.00        20\n",
      "       Colin Farrell       0.00      0.00      0.00        20\n",
      "        Colin Powell       0.00      0.00      0.00        20\n",
      "   Cristiano Ronaldo       0.00      0.00      0.00        20\n",
      "        Daniel Craig       0.00      0.00      0.00        20\n",
      "    Daniel Radcliffe       0.00      0.00      0.00        20\n",
      "       David Beckham       0.00      0.00      0.00        20\n",
      "      David Duchovny       0.00      0.00      0.00        20\n",
      "     Denise Richards       0.00      0.00      0.00        20\n",
      "      Drew Barrymore       0.00      0.00      0.00        20\n",
      "      Dustin Hoffman       0.00      0.00      0.00        20\n",
      "         Ehud Olmert       0.00      0.00      0.00        20\n",
      "          Eva Mendes       0.00      0.00      0.00        20\n",
      "          Faith Hill       0.00      0.00      0.00        20\n",
      "      George Clooney       0.00      0.00      0.00        20\n",
      "        Gordon Brown       0.00      0.00      0.00        20\n",
      "     Gwyneth Paltrow       0.00      0.00      0.00        20\n",
      "         Halle Berry       0.00      0.00      0.00        20\n",
      "       Harrison Ford       0.00      0.00      0.00        20\n",
      "        Hugh Jackman       0.00      0.00      0.00        20\n",
      "         Hugh Laurie       0.00      0.00      0.00        20\n",
      "      Jack Nicholson       0.00      0.00      0.00        20\n",
      "    Jennifer Aniston       0.00      0.00      0.00        20\n",
      "      Jennifer Lopez       0.00      0.00      0.00        20\n",
      "Jennifer Love Hewitt       0.00      0.00      0.00        20\n",
      "        Jessica Alba       0.00      0.00      0.00        20\n",
      "     Jessica Simpson       0.00      0.00      0.00        20\n",
      "     Joaquin Phoenix       0.00      0.00      0.00        20\n",
      "       John Travolta       0.00      0.00      0.00        20\n",
      "       Julia Roberts       0.00      0.00      0.00        20\n",
      "        Julia Stiles       0.00      0.00      0.00        20\n",
      "           Kate Moss       0.00      0.00      0.00        20\n",
      "        Kate Winslet       0.00      0.00      0.00        20\n",
      "     Katherine Heigl       0.00      0.00      0.00        20\n",
      "     Keira Knightley       0.00      0.00      0.00        20\n",
      "   Kiefer Sutherland       0.00      0.00      0.00        20\n",
      "   Leonardo DiCaprio       0.00      0.00      0.00        20\n",
      "       Lindsay Lohan       0.00      0.00      0.00        20\n",
      "        Mariah Carey       0.00      0.00      0.00        20\n",
      "      Martha Stewart       0.00      0.00      0.00        20\n",
      "          Matt Damon       0.00      0.00      0.00        20\n",
      "            Meg Ryan       0.00      0.00      0.00        20\n",
      "        Meryl Streep       0.00      0.00      0.00        20\n",
      "   Michael Bloomberg       0.00      0.00      0.00        20\n",
      "       Mickey Rourke       0.00      0.00      0.00        20\n",
      "         Miley Cyrus       0.00      0.00      0.00        20\n",
      "      Morgan Freeman       0.00      0.00      0.00        20\n",
      "       Nicole Kidman       0.00      0.00      0.00        20\n",
      "       Nicole Richie       0.00      0.00      0.00        20\n",
      "       Orlando Bloom       0.00      0.00      0.00        20\n",
      "   Reese Witherspoon       0.00      0.00      0.00        20\n",
      "     Renee Zellweger       0.00      0.00      0.00        20\n",
      "        Ricky Martin       0.00      0.00      0.00        20\n",
      "        Robert Gates       0.00      0.00      0.00        20\n",
      "         Sania Mirza       0.00      0.00      0.00        20\n",
      "  Scarlett Johansson       0.00      0.00      0.00        20\n",
      "       Shahrukh Khan       0.00      0.00      0.00        20\n",
      "             Shakira       0.00      0.00      0.00        20\n",
      "        Sharon Stone       0.00      0.00      0.00        20\n",
      "   Silvio Berlusconi       0.00      0.00      0.00        20\n",
      "     Stephen Colbert       0.00      0.00      0.00        20\n",
      "        Steve Carell       0.00      0.00      0.00        20\n",
      "          Tom Cruise       0.00      0.00      0.00        20\n",
      "         Uma Thurman       0.00      0.00      0.00        20\n",
      "    Victoria Beckham       0.00      0.00      0.00        20\n",
      "     Viggo Mortensen       0.00      0.00      0.00        20\n",
      "          Will Smith       0.00      0.00      0.00        20\n",
      "           Zac Efron       0.00      0.00      0.00        20\n",
      "\n",
      "            accuracy                           0.01      1660\n",
      "           macro avg       0.00      0.01      0.00      1660\n",
      "        weighted avg       0.00      0.01      0.00      1660\n",
      "\n"
     ]
    },
    {
     "name": "stderr",
     "output_type": "stream",
     "text": [
      "/opt/homebrew/Caskroom/miniforge/base/envs/tensorflow_m1/lib/python3.9/site-packages/sklearn/metrics/_classification.py:1327: UndefinedMetricWarning: Precision and F-score are ill-defined and being set to 0.0 in labels with no predicted samples. Use `zero_division` parameter to control this behavior.\n",
      "  _warn_prf(average, modifier, msg_start, len(result))\n",
      "/opt/homebrew/Caskroom/miniforge/base/envs/tensorflow_m1/lib/python3.9/site-packages/sklearn/metrics/_classification.py:1327: UndefinedMetricWarning: Precision and F-score are ill-defined and being set to 0.0 in labels with no predicted samples. Use `zero_division` parameter to control this behavior.\n",
      "  _warn_prf(average, modifier, msg_start, len(result))\n",
      "/opt/homebrew/Caskroom/miniforge/base/envs/tensorflow_m1/lib/python3.9/site-packages/sklearn/metrics/_classification.py:1327: UndefinedMetricWarning: Precision and F-score are ill-defined and being set to 0.0 in labels with no predicted samples. Use `zero_division` parameter to control this behavior.\n",
      "  _warn_prf(average, modifier, msg_start, len(result))\n"
     ]
    }
   ],
   "source": [
    "from sklearn.metrics import classification_report\n",
    "\n",
    "class_names = label_encoder.classes_\n",
    "\n",
    "print(classification_report(y_test, y_test_pred, target_names=[name for name in class_names]))"
   ]
  },
  {
   "cell_type": "markdown",
   "id": "5fdc482d-66af-4f61-90f1-a1ce58a051f7",
   "metadata": {},
   "source": [
    "------"
   ]
  },
  {
   "cell_type": "code",
   "execution_count": null,
   "id": "af66b967-27f4-4d1c-85ac-fcd9e26eb4fc",
   "metadata": {},
   "outputs": [],
   "source": []
  },
  {
   "cell_type": "markdown",
   "id": "3e3d22b7-ceac-4ada-a6d1-46c6e57ab9c3",
   "metadata": {},
   "source": [
    "**VGG16 (with pre-trained weights) for feature extraction**"
   ]
  },
  {
   "cell_type": "code",
   "execution_count": 222,
   "id": "2ab42eec-7401-4c15-adb9-9e596737beb4",
   "metadata": {},
   "outputs": [],
   "source": [
    "# https://keras.io/api/applications/vgg/\n",
    "# https://towardsdatascience.com/transfer-learning-with-vgg16-and-keras-50ea161580b4\n",
    "\n",
    "from tensorflow.keras.applications import VGG16\n",
    "\n",
    "vgg16 = VGG16(include_top=None,   # we will ignore the top layers that consists of the MLP classifier of VGG16\n",
    "              weights=\"imagenet\", # we will use the weights learned for the ImageNet dataset\n",
    "              input_shape=(100, 100, 3))  # let's consider a smaller resolution than the original paper due to lack of memory\n",
    "\n",
    "# unnecessary because we will not train these network\n",
    "vgg16.trainable = False"
   ]
  },
  {
   "cell_type": "code",
   "execution_count": 223,
   "id": "21d1d54d-4a3a-48d9-b6d9-ec323a60a5f1",
   "metadata": {},
   "outputs": [],
   "source": [
    "from tensorflow.keras import Sequential\n",
    "from tensorflow.keras.layers import Flatten\n",
    "\n",
    "feat_extractor = Sequential([\n",
    "    vgg16,\n",
    "    Flatten()\n",
    "])"
   ]
  },
  {
   "cell_type": "code",
   "execution_count": 224,
   "id": "774495ae-a3e5-4d20-b8ec-baa475ae7110",
   "metadata": {},
   "outputs": [
    {
     "name": "stdout",
     "output_type": "stream",
     "text": [
      "Model: \"sequential_10\"\n",
      "_________________________________________________________________\n",
      " Layer (type)                Output Shape              Param #   \n",
      "=================================================================\n",
      " vgg16 (Functional)          (None, 3, 3, 512)         14714688  \n",
      "                                                                 \n",
      " flatten_10 (Flatten)        (None, 4608)              0         \n",
      "                                                                 \n",
      "=================================================================\n",
      "Total params: 14,714,688\n",
      "Trainable params: 0\n",
      "Non-trainable params: 14,714,688\n",
      "_________________________________________________________________\n"
     ]
    }
   ],
   "source": [
    "feat_extractor.summary()"
   ]
  },
  {
   "cell_type": "code",
   "execution_count": null,
   "id": "47b6e140-d08a-4aca-90e1-6685e7bcf484",
   "metadata": {},
   "outputs": [],
   "source": []
  },
  {
   "cell_type": "code",
   "execution_count": 225,
   "id": "854510a6-f1c2-4f4c-a3f2-c5395c915e04",
   "metadata": {},
   "outputs": [
    {
     "name": "stdout",
     "output_type": "stream",
     "text": [
      "  1/244 [..............................] - ETA: 59s"
     ]
    },
    {
     "name": "stderr",
     "output_type": "stream",
     "text": [
      "2022-06-14 21:12:12.478803: I tensorflow/core/grappler/optimizers/custom_graph_optimizer_registry.cc:113] Plugin optimizer for device_type GPU is enabled.\n"
     ]
    },
    {
     "name": "stdout",
     "output_type": "stream",
     "text": [
      "244/244 [==============================] - 28s 113ms/step\n"
     ]
    }
   ],
   "source": [
    "X_train = feat_extractor.predict(X_train)"
   ]
  },
  {
   "cell_type": "code",
   "execution_count": 226,
   "id": "93e984d4-bccf-44b6-b25f-b8428f41e2b3",
   "metadata": {},
   "outputs": [
    {
     "name": "stdout",
     "output_type": "stream",
     "text": [
      "52/52 [==============================] - 6s 124ms/step\n"
     ]
    }
   ],
   "source": [
    "X_test = feat_extractor.predict(X_test)"
   ]
  },
  {
   "cell_type": "code",
   "execution_count": 227,
   "id": "6df8253d-18b3-44be-bb2b-b3f8cb5a306c",
   "metadata": {},
   "outputs": [
    {
     "name": "stdout",
     "output_type": "stream",
     "text": [
      "X_train.shape: (7793, 4608)\n",
      "y_train.shape: (7793,)\n",
      "\n",
      "X_test.shape: (1660, 4608)\n",
      "y_test.shape: (1660,)\n"
     ]
    }
   ],
   "source": [
    "print(f'X_train.shape: {X_train.shape}')\n",
    "print(f'y_train.shape: {y_train.shape}\\n')\n",
    "\n",
    "print(f'X_test.shape: {X_test.shape}')\n",
    "print(f'y_test.shape: {y_test.shape}')"
   ]
  },
  {
   "cell_type": "code",
   "execution_count": null,
   "id": "9c4729d5-460b-4881-b70a-67ea5d3dc44e",
   "metadata": {},
   "outputs": [],
   "source": []
  },
  {
   "cell_type": "markdown",
   "id": "a43258ba-4056-4317-b0ba-b6fa770b63b1",
   "metadata": {},
   "source": [
    "### 2.4 Training a Linear SVM from the extracted Features"
   ]
  },
  {
   "cell_type": "code",
   "execution_count": 228,
   "id": "f21e68aa-ca16-44d0-9c1c-73bdf927fcd6",
   "metadata": {},
   "outputs": [],
   "source": [
    "from sklearn.svm import LinearSVC"
   ]
  },
  {
   "cell_type": "code",
   "execution_count": 229,
   "id": "89b97e88-badb-4dea-9984-fb9f3cdc5a34",
   "metadata": {},
   "outputs": [],
   "source": [
    "svm = LinearSVC(C=0.01, verbose=100)"
   ]
  },
  {
   "cell_type": "code",
   "execution_count": 230,
   "id": "8077d8d5-7364-4950-b70b-59586c1421ec",
   "metadata": {},
   "outputs": [
    {
     "name": "stdout",
     "output_type": "stream",
     "text": [
      "[LibLinear]\n",
      "systemMemory: 16.00 GB\n",
      "maxCacheSize: 5.33 GB\n",
      "\n",
      ".....................*.\n",
      "optimization finished, #iter = 220\n",
      "Objective value = -0.544397\n",
      "nSV = 388\n",
      ".....................*.*\n",
      "optimization finished, #iter = 221\n",
      "Objective value = -0.525135\n",
      "nSV = 418\n",
      "..........................**\n",
      "optimization finished, #iter = 267\n",
      "Objective value = -1.770499\n",
      "nSV = 911\n",
      "............................**\n",
      "optimization finished, #iter = 288\n",
      "Objective value = -1.504717\n",
      "nSV = 847\n",
      "......................**\n",
      "optimization finished, #iter = 227\n",
      "Objective value = -0.739582\n",
      "nSV = 545\n",
      ".........................*\n",
      "optimization finished, #iter = 252\n",
      "Objective value = -1.486154\n",
      "nSV = 657\n",
      ".......................**.\n",
      "optimization finished, #iter = 240\n",
      "Objective value = -1.140281\n",
      "nSV = 595\n",
      "........................*\n",
      "optimization finished, #iter = 241\n",
      "Objective value = -0.834065\n",
      "nSV = 540\n",
      "..........................**\n",
      "optimization finished, #iter = 267\n",
      "Objective value = -0.932655\n",
      "nSV = 584\n",
      "............................**\n",
      "optimization finished, #iter = 283\n",
      "Objective value = -2.758320\n",
      "nSV = 1164\n",
      "...........................**\n",
      "optimization finished, #iter = 276\n",
      "Objective value = -2.198033\n",
      "nSV = 1000\n",
      "..........................*\n",
      "optimization finished, #iter = 262\n",
      "Objective value = -1.548700\n",
      "nSV = 863\n",
      "..........................*\n",
      "optimization finished, #iter = 265\n",
      "Objective value = -1.903358\n",
      "nSV = 1001\n",
      "......................*.\n",
      "optimization finished, #iter = 230\n",
      "Objective value = -0.966182\n",
      "nSV = 558\n",
      "..........................*\n",
      "optimization finished, #iter = 261\n",
      "Objective value = -0.935669\n",
      "nSV = 607\n",
      "......................*\n",
      "optimization finished, #iter = 229\n",
      "Objective value = -0.986830\n",
      "nSV = 589\n",
      ".......................*\n",
      "optimization finished, #iter = 237\n",
      "Objective value = -0.988758\n",
      "nSV = 600\n",
      "...................*\n",
      "optimization finished, #iter = 199\n",
      "Objective value = -0.464799\n",
      "nSV = 332\n",
      ".......................*\n",
      "optimization finished, #iter = 236\n",
      "Objective value = -0.786210\n",
      "nSV = 485\n",
      "........................**\n",
      "optimization finished, #iter = 247\n",
      "Objective value = -1.176562\n",
      "nSV = 684\n",
      "........................*\n",
      "optimization finished, #iter = 245\n",
      "Objective value = -1.322252\n",
      "nSV = 666\n",
      "........................*\n",
      "optimization finished, #iter = 248\n",
      "Objective value = -1.264880\n",
      "nSV = 664\n",
      ".......................*\n",
      "optimization finished, #iter = 235\n",
      "Objective value = -1.042664\n",
      "nSV = 633\n",
      "...........................**\n",
      "optimization finished, #iter = 279\n",
      "Objective value = -1.821683\n",
      "nSV = 860\n",
      "..........................*\n",
      "optimization finished, #iter = 263\n",
      "Objective value = -1.441133\n",
      "nSV = 877\n",
      "............................*\n",
      "optimization finished, #iter = 281\n",
      "Objective value = -0.656339\n",
      "nSV = 435\n",
      ".....................*...*\n",
      "optimization finished, #iter = 243\n",
      "Objective value = -0.635318\n",
      "nSV = 383\n",
      ".........................**.*\n",
      "optimization finished, #iter = 262\n",
      "Objective value = -1.068979\n",
      "nSV = 678\n",
      ".........................*\n",
      "optimization finished, #iter = 257\n",
      "Objective value = -0.902827\n",
      "nSV = 563\n",
      ".........................**\n",
      "optimization finished, #iter = 256\n",
      "Objective value = -1.598163\n",
      "nSV = 875\n",
      ".....................**\n",
      "optimization finished, #iter = 217\n",
      "Objective value = -0.491464\n",
      "nSV = 383\n",
      "............................**\n",
      "optimization finished, #iter = 288\n",
      "Objective value = -2.077496\n",
      "nSV = 976\n",
      "......................*.*\n",
      "optimization finished, #iter = 232\n",
      "Objective value = -0.793306\n",
      "nSV = 568\n",
      "......................*.*\n",
      "optimization finished, #iter = 231\n",
      "Objective value = -0.995832\n",
      "nSV = 586\n",
      ".........................*\n",
      "optimization finished, #iter = 251\n",
      "Objective value = -1.123110\n",
      "nSV = 623\n",
      ".......................*\n",
      "optimization finished, #iter = 236\n",
      "Objective value = -0.838867\n",
      "nSV = 475\n",
      ".....................*\n",
      "optimization finished, #iter = 218\n",
      "Objective value = -0.606892\n",
      "nSV = 453\n",
      "..........................*.*\n",
      "optimization finished, #iter = 272\n",
      "Objective value = -1.433380\n",
      "nSV = 620\n",
      ".........................*\n",
      "optimization finished, #iter = 256\n",
      "Objective value = -1.175713\n",
      "nSV = 786\n",
      "........................*\n",
      "optimization finished, #iter = 248\n",
      "Objective value = -0.906388\n",
      "nSV = 644\n",
      "............................*\n",
      "optimization finished, #iter = 289\n",
      "Objective value = -1.716785\n",
      "nSV = 1001\n",
      "............................**.\n",
      "optimization finished, #iter = 290\n",
      "Objective value = -2.079272\n",
      "nSV = 957\n",
      "......................*.*\n",
      "optimization finished, #iter = 232\n",
      "Objective value = -0.739536\n",
      "nSV = 508\n",
      "........................*\n",
      "optimization finished, #iter = 243\n",
      "Objective value = -0.953006\n",
      "nSV = 580\n",
      ".........................**.\n",
      "optimization finished, #iter = 260\n",
      "Objective value = -1.230082\n",
      "nSV = 760\n",
      ".........................**\n",
      "optimization finished, #iter = 258\n",
      "Objective value = -1.036610\n",
      "nSV = 588\n",
      "...........................*\n",
      "optimization finished, #iter = 279\n",
      "Objective value = -1.437833\n",
      "nSV = 846\n",
      "...........................*\n",
      "optimization finished, #iter = 271\n",
      "Objective value = -1.269641\n",
      "nSV = 815\n",
      "...........................*.**\n",
      "optimization finished, #iter = 284\n",
      "Objective value = -2.284324\n",
      "nSV = 1090\n",
      "...........................*\n",
      "optimization finished, #iter = 272\n",
      "Objective value = -1.804487\n",
      "nSV = 915\n",
      ".......................**\n",
      "optimization finished, #iter = 233\n",
      "Objective value = -0.856176\n",
      "nSV = 511\n",
      ".........................*\n",
      "optimization finished, #iter = 254\n",
      "Objective value = -1.609715\n",
      "nSV = 834\n",
      "..............................**.\n",
      "optimization finished, #iter = 310\n",
      "Objective value = -3.634344\n",
      "nSV = 1463\n",
      ".......................**\n",
      "optimization finished, #iter = 237\n",
      "Objective value = -0.693534\n",
      "nSV = 476\n",
      ".....................**\n",
      "optimization finished, #iter = 215\n",
      "Objective value = -0.549865\n",
      "nSV = 333\n",
      ".......................*.\n",
      "optimization finished, #iter = 240\n",
      "Objective value = -1.021636\n",
      "nSV = 588\n",
      ".........................*.**\n",
      "optimization finished, #iter = 263\n",
      "Objective value = -1.064416\n",
      "nSV = 515\n",
      ".............................**\n",
      "optimization finished, #iter = 299\n",
      "Objective value = -1.187219\n",
      "nSV = 744\n",
      "....................**\n",
      "optimization finished, #iter = 207\n",
      "Objective value = -0.524435\n",
      "nSV = 384\n",
      "....................*.*\n",
      "optimization finished, #iter = 211\n",
      "Objective value = -0.528631\n",
      "nSV = 414\n",
      "............................*\n",
      "optimization finished, #iter = 288\n",
      "Objective value = -3.081885\n",
      "nSV = 1215\n",
      "...................*.*\n",
      "optimization finished, #iter = 203\n",
      "Objective value = -0.398111\n",
      "nSV = 276\n",
      "........................*.*\n",
      "optimization finished, #iter = 253\n",
      "Objective value = -1.454170\n",
      "nSV = 767\n",
      ".........................**\n",
      "optimization finished, #iter = 255\n",
      "Objective value = -0.856001\n",
      "nSV = 481\n",
      "............................*\n",
      "optimization finished, #iter = 282\n",
      "Objective value = -1.844999\n",
      "nSV = 875\n",
      "..........................*\n",
      "optimization finished, #iter = 264\n",
      "Objective value = -1.245683\n",
      "nSV = 751\n",
      ".........................*\n",
      "optimization finished, #iter = 253\n",
      "Objective value = -1.146813\n",
      "nSV = 714\n",
      ".......................**\n",
      "optimization finished, #iter = 237\n",
      "Objective value = -0.968213\n",
      "nSV = 607\n",
      "...................*\n",
      "optimization finished, #iter = 198\n",
      "Objective value = -0.368808\n",
      "nSV = 278\n",
      ".......................*.**\n",
      "optimization finished, #iter = 243\n",
      "Objective value = -0.721227\n",
      "nSV = 503\n",
      ".............................**.\n",
      "optimization finished, #iter = 300\n",
      "Objective value = -2.961370\n",
      "nSV = 1313\n",
      ".......................*\n",
      "optimization finished, #iter = 233\n",
      "Objective value = -0.865129\n",
      "nSV = 565\n",
      "............................*\n",
      "optimization finished, #iter = 283\n",
      "Objective value = -1.202743\n",
      "nSV = 610\n",
      "............................*\n",
      "optimization finished, #iter = 286\n",
      "Objective value = -2.052375\n",
      "nSV = 1041\n",
      "....................*.*\n",
      "optimization finished, #iter = 211\n",
      "Objective value = -0.555506\n",
      "nSV = 365\n",
      ".....................**.\n",
      "optimization finished, #iter = 220\n",
      "Objective value = -0.604562\n",
      "nSV = 433\n",
      "........................*\n",
      "optimization finished, #iter = 244\n",
      "Objective value = -1.054623\n",
      "nSV = 597\n",
      "........................**\n",
      "optimization finished, #iter = 248\n",
      "Objective value = -1.457762\n",
      "nSV = 724\n",
      "..........................*.\n",
      "optimization finished, #iter = 270\n",
      "Objective value = -1.627704\n",
      "nSV = 922\n",
      ".......................**.\n",
      "optimization finished, #iter = 240\n",
      "Objective value = -0.789721\n",
      "nSV = 566\n",
      "........................*\n",
      "optimization finished, #iter = 241\n",
      "Objective value = -0.948460\n",
      "nSV = 687\n",
      "...................*.*\n",
      "optimization finished, #iter = 202\n",
      "Objective value = -0.434196\n",
      "nSV = 337\n",
      "......................*.\n",
      "optimization finished, #iter = 230\n",
      "Objective value = -0.958884\n",
      "nSV = 570\n"
     ]
    },
    {
     "data": {
      "text/html": [
       "<style>#sk-container-id-1 {color: black;background-color: white;}#sk-container-id-1 pre{padding: 0;}#sk-container-id-1 div.sk-toggleable {background-color: white;}#sk-container-id-1 label.sk-toggleable__label {cursor: pointer;display: block;width: 100%;margin-bottom: 0;padding: 0.3em;box-sizing: border-box;text-align: center;}#sk-container-id-1 label.sk-toggleable__label-arrow:before {content: \"▸\";float: left;margin-right: 0.25em;color: #696969;}#sk-container-id-1 label.sk-toggleable__label-arrow:hover:before {color: black;}#sk-container-id-1 div.sk-estimator:hover label.sk-toggleable__label-arrow:before {color: black;}#sk-container-id-1 div.sk-toggleable__content {max-height: 0;max-width: 0;overflow: hidden;text-align: left;background-color: #f0f8ff;}#sk-container-id-1 div.sk-toggleable__content pre {margin: 0.2em;color: black;border-radius: 0.25em;background-color: #f0f8ff;}#sk-container-id-1 input.sk-toggleable__control:checked~div.sk-toggleable__content {max-height: 200px;max-width: 100%;overflow: auto;}#sk-container-id-1 input.sk-toggleable__control:checked~label.sk-toggleable__label-arrow:before {content: \"▾\";}#sk-container-id-1 div.sk-estimator input.sk-toggleable__control:checked~label.sk-toggleable__label {background-color: #d4ebff;}#sk-container-id-1 div.sk-label input.sk-toggleable__control:checked~label.sk-toggleable__label {background-color: #d4ebff;}#sk-container-id-1 input.sk-hidden--visually {border: 0;clip: rect(1px 1px 1px 1px);clip: rect(1px, 1px, 1px, 1px);height: 1px;margin: -1px;overflow: hidden;padding: 0;position: absolute;width: 1px;}#sk-container-id-1 div.sk-estimator {font-family: monospace;background-color: #f0f8ff;border: 1px dotted black;border-radius: 0.25em;box-sizing: border-box;margin-bottom: 0.5em;}#sk-container-id-1 div.sk-estimator:hover {background-color: #d4ebff;}#sk-container-id-1 div.sk-parallel-item::after {content: \"\";width: 100%;border-bottom: 1px solid gray;flex-grow: 1;}#sk-container-id-1 div.sk-label:hover label.sk-toggleable__label {background-color: #d4ebff;}#sk-container-id-1 div.sk-serial::before {content: \"\";position: absolute;border-left: 1px solid gray;box-sizing: border-box;top: 0;bottom: 0;left: 50%;z-index: 0;}#sk-container-id-1 div.sk-serial {display: flex;flex-direction: column;align-items: center;background-color: white;padding-right: 0.2em;padding-left: 0.2em;position: relative;}#sk-container-id-1 div.sk-item {position: relative;z-index: 1;}#sk-container-id-1 div.sk-parallel {display: flex;align-items: stretch;justify-content: center;background-color: white;position: relative;}#sk-container-id-1 div.sk-item::before, #sk-container-id-1 div.sk-parallel-item::before {content: \"\";position: absolute;border-left: 1px solid gray;box-sizing: border-box;top: 0;bottom: 0;left: 50%;z-index: -1;}#sk-container-id-1 div.sk-parallel-item {display: flex;flex-direction: column;z-index: 1;position: relative;background-color: white;}#sk-container-id-1 div.sk-parallel-item:first-child::after {align-self: flex-end;width: 50%;}#sk-container-id-1 div.sk-parallel-item:last-child::after {align-self: flex-start;width: 50%;}#sk-container-id-1 div.sk-parallel-item:only-child::after {width: 0;}#sk-container-id-1 div.sk-dashed-wrapped {border: 1px dashed gray;margin: 0 0.4em 0.5em 0.4em;box-sizing: border-box;padding-bottom: 0.4em;background-color: white;}#sk-container-id-1 div.sk-label label {font-family: monospace;font-weight: bold;display: inline-block;line-height: 1.2em;}#sk-container-id-1 div.sk-label-container {text-align: center;}#sk-container-id-1 div.sk-container {/* jupyter's `normalize.less` sets `[hidden] { display: none; }` but bootstrap.min.css set `[hidden] { display: none !important; }` so we also need the `!important` here to be able to override the default hidden behavior on the sphinx rendered scikit-learn.org. See: https://github.com/scikit-learn/scikit-learn/issues/21755 */display: inline-block !important;position: relative;}#sk-container-id-1 div.sk-text-repr-fallback {display: none;}</style><div id=\"sk-container-id-1\" class=\"sk-top-container\"><div class=\"sk-text-repr-fallback\"><pre>LinearSVC(C=0.01, verbose=100)</pre><b>In a Jupyter environment, please rerun this cell to show the HTML representation or trust the notebook. <br />On GitHub, the HTML representation is unable to render, please try loading this page with nbviewer.org.</b></div><div class=\"sk-container\" hidden><div class=\"sk-item\"><div class=\"sk-estimator sk-toggleable\"><input class=\"sk-toggleable__control sk-hidden--visually\" id=\"sk-estimator-id-1\" type=\"checkbox\" checked><label for=\"sk-estimator-id-1\" class=\"sk-toggleable__label sk-toggleable__label-arrow\">LinearSVC</label><div class=\"sk-toggleable__content\"><pre>LinearSVC(C=0.01, verbose=100)</pre></div></div></div></div></div>"
      ],
      "text/plain": [
       "LinearSVC(C=0.01, verbose=100)"
      ]
     },
     "execution_count": 230,
     "metadata": {},
     "output_type": "execute_result"
    }
   ],
   "source": [
    "svm.fit(X_train, y_train)"
   ]
  },
  {
   "cell_type": "markdown",
   "id": "4fe83416-642c-4267-ad79-68cfbc6e7287",
   "metadata": {},
   "source": [
    "#### **Class Prediction**"
   ]
  },
  {
   "cell_type": "code",
   "execution_count": 231,
   "id": "62beb03a-2379-4b7c-906f-c4e27334589f",
   "metadata": {},
   "outputs": [
    {
     "data": {
      "text/plain": [
       "array([ 0,  0,  0, ..., 82, 82, 82])"
      ]
     },
     "execution_count": 231,
     "metadata": {},
     "output_type": "execute_result"
    }
   ],
   "source": [
    "y_test_pred = svm.predict(X_test)\n",
    "y_test_pred"
   ]
  },
  {
   "cell_type": "code",
   "execution_count": 232,
   "id": "3af864c4-8940-4cd5-ada0-423203457697",
   "metadata": {},
   "outputs": [
    {
     "name": "stdout",
     "output_type": "stream",
     "text": [
      "                      precision    recall  f1-score   support\n",
      "\n",
      "        Adam Sandler       0.76      0.65      0.70        20\n",
      "        Alec Baldwin       0.79      0.55      0.65        20\n",
      "      Angelina Jolie       0.35      0.40      0.37        20\n",
      "     Anna Kournikova       0.53      0.45      0.49        20\n",
      "      Ashton Kutcher       1.00      0.30      0.46        20\n",
      "       Avril Lavigne       0.41      0.55      0.47        20\n",
      "        Barack Obama       0.57      0.80      0.67        20\n",
      "         Ben Affleck       0.80      0.40      0.53        20\n",
      "     Beyonce Knowles       0.50      0.30      0.37        20\n",
      "           Brad Pitt       0.18      0.35      0.24        20\n",
      "        Cameron Diaz       0.50      0.55      0.52        20\n",
      "      Cate Blanchett       0.24      0.20      0.22        20\n",
      "     Charlize Theron       0.30      0.30      0.30        20\n",
      "     Christina Ricci       0.70      0.35      0.47        20\n",
      "    Claudia Schiffer       0.85      0.55      0.67        20\n",
      "          Clive Owen       0.32      0.30      0.31        20\n",
      "       Colin Farrell       0.48      0.65      0.55        20\n",
      "        Colin Powell       0.92      0.60      0.73        20\n",
      "   Cristiano Ronaldo       0.74      0.85      0.79        20\n",
      "        Daniel Craig       0.54      0.65      0.59        20\n",
      "    Daniel Radcliffe       0.38      0.75      0.50        20\n",
      "       David Beckham       0.65      0.75      0.70        20\n",
      "      David Duchovny       0.52      0.60      0.56        20\n",
      "     Denise Richards       0.52      0.60      0.56        20\n",
      "      Drew Barrymore       0.18      0.15      0.16        20\n",
      "      Dustin Hoffman       1.00      0.20      0.33        20\n",
      "         Ehud Olmert       0.82      0.70      0.76        20\n",
      "          Eva Mendes       0.43      0.45      0.44        20\n",
      "          Faith Hill       0.67      0.40      0.50        20\n",
      "      George Clooney       0.43      0.60      0.50        20\n",
      "        Gordon Brown       0.75      0.75      0.75        20\n",
      "     Gwyneth Paltrow       0.42      0.65      0.51        20\n",
      "         Halle Berry       0.22      0.10      0.14        20\n",
      "       Harrison Ford       0.48      0.55      0.51        20\n",
      "        Hugh Jackman       0.53      0.45      0.49        20\n",
      "         Hugh Laurie       0.64      0.70      0.67        20\n",
      "      Jack Nicholson       0.80      0.40      0.53        20\n",
      "    Jennifer Aniston       0.48      0.70      0.57        20\n",
      "      Jennifer Lopez       0.13      0.10      0.11        20\n",
      "Jennifer Love Hewitt       0.40      0.30      0.34        20\n",
      "        Jessica Alba       0.18      0.10      0.13        20\n",
      "     Jessica Simpson       0.48      0.65      0.55        20\n",
      "     Joaquin Phoenix       0.62      0.50      0.56        20\n",
      "       John Travolta       0.48      0.65      0.55        20\n",
      "       Julia Roberts       0.41      0.35      0.38        20\n",
      "        Julia Stiles       0.44      0.35      0.39        20\n",
      "           Kate Moss       0.53      0.40      0.46        20\n",
      "        Kate Winslet       0.38      0.25      0.30        20\n",
      "     Katherine Heigl       0.32      0.40      0.36        20\n",
      "     Keira Knightley       0.32      0.35      0.33        20\n",
      "   Kiefer Sutherland       0.69      0.55      0.61        20\n",
      "   Leonardo DiCaprio       0.43      0.50      0.47        20\n",
      "       Lindsay Lohan       0.29      0.45      0.35        20\n",
      "        Mariah Carey       0.57      0.20      0.30        20\n",
      "      Martha Stewart       0.68      0.75      0.71        20\n",
      "          Matt Damon       0.52      0.65      0.58        20\n",
      "            Meg Ryan       0.52      0.65      0.58        20\n",
      "        Meryl Streep       0.36      0.25      0.29        20\n",
      "   Michael Bloomberg       0.74      0.70      0.72        20\n",
      "       Mickey Rourke       0.53      0.45      0.49        20\n",
      "         Miley Cyrus       0.28      0.55      0.37        20\n",
      "      Morgan Freeman       0.78      0.70      0.74        20\n",
      "       Nicole Kidman       0.52      0.55      0.54        20\n",
      "       Nicole Richie       0.60      0.75      0.67        20\n",
      "       Orlando Bloom       0.23      0.35      0.27        20\n",
      "   Reese Witherspoon       0.50      0.35      0.41        20\n",
      "     Renee Zellweger       0.53      0.40      0.46        20\n",
      "        Ricky Martin       0.50      0.35      0.41        20\n",
      "        Robert Gates       0.61      0.85      0.71        20\n",
      "         Sania Mirza       0.65      0.55      0.59        20\n",
      "  Scarlett Johansson       0.30      0.55      0.39        20\n",
      "       Shahrukh Khan       0.56      0.50      0.53        20\n",
      "             Shakira       0.45      0.45      0.45        20\n",
      "        Sharon Stone       0.33      0.40      0.36        20\n",
      "   Silvio Berlusconi       0.76      0.95      0.84        20\n",
      "     Stephen Colbert       0.82      0.70      0.76        20\n",
      "        Steve Carell       0.68      0.75      0.71        20\n",
      "          Tom Cruise       0.50      0.45      0.47        20\n",
      "         Uma Thurman       0.27      0.20      0.23        20\n",
      "    Victoria Beckham       0.65      0.55      0.59        20\n",
      "     Viggo Mortensen       0.58      0.35      0.44        20\n",
      "          Will Smith       0.83      0.75      0.79        20\n",
      "           Zac Efron       0.58      0.75      0.65        20\n",
      "\n",
      "            accuracy                           0.50      1660\n",
      "           macro avg       0.53      0.50      0.50      1660\n",
      "        weighted avg       0.53      0.50      0.50      1660\n",
      "\n"
     ]
    }
   ],
   "source": [
    "from sklearn.metrics import classification_report\n",
    "\n",
    "class_names = label_encoder.classes_\n",
    "\n",
    "print(classification_report(y_test, y_test_pred, target_names=[name for name in class_names]))"
   ]
  },
  {
   "cell_type": "code",
   "execution_count": null,
   "id": "1dc2b260-e921-4629-81e7-18f2e056d583",
   "metadata": {},
   "outputs": [],
   "source": []
  }
 ],
 "metadata": {
  "kernelspec": {
   "display_name": "Python 3 (ipykernel)",
   "language": "python",
   "name": "python3"
  },
  "language_info": {
   "codemirror_mode": {
    "name": "ipython",
    "version": 3
   },
   "file_extension": ".py",
   "mimetype": "text/x-python",
   "name": "python",
   "nbconvert_exporter": "python",
   "pygments_lexer": "ipython3",
   "version": "3.9.0"
  }
 },
 "nbformat": 4,
 "nbformat_minor": 5
}
